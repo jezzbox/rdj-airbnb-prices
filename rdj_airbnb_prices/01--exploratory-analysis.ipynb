{
 "cells": [
  {
   "cell_type": "code",
   "execution_count": 1,
   "id": "80c39ee1",
   "metadata": {},
   "outputs": [],
   "source": [
    "import pandas as pd\n",
    "import os\n",
    "import seaborn as sns\n",
    "import matplotlib.pyplot as plt"
   ]
  },
  {
   "cell_type": "code",
   "execution_count": 2,
   "id": "3cf25e56",
   "metadata": {},
   "outputs": [],
   "source": [
    "## read csv into dataframe\n",
    "#put the id dtype to make sure csv is formatted correctly\n",
    "df = pd.read_csv('../data/train.csv',dtype={'id':int, 'license':str})"
   ]
  },
  {
   "cell_type": "code",
   "execution_count": 3,
   "id": "8f3db6cc",
   "metadata": {},
   "outputs": [],
   "source": [
    "price_columns = ['price','weekly_price','monthly_price']\n",
    "df[price_columns] = df[price_columns].apply(lambda x: x.str.replace(r'[$,]','',regex=True).astype(float))"
   ]
  },
  {
   "cell_type": "code",
   "execution_count": 4,
   "id": "6bb93715",
   "metadata": {},
   "outputs": [
    {
     "data": {
      "text/plain": [
       "Index(['id', 'last_scraped', 'host_since', 'host_location',\n",
       "       'host_response_time', 'host_response_rate', 'host_acceptance_rate',\n",
       "       'host_is_superhost', 'host_neighbourhood', 'host_listings_count',\n",
       "       'host_total_listings_count', 'host_verifications',\n",
       "       'host_has_profile_pic', 'host_identity_verified', 'street',\n",
       "       'neighbourhood', 'neighbourhood_cleansed',\n",
       "       'neighbourhood_group_cleansed', 'zipcode', 'market', 'smart_location',\n",
       "       'latitude', 'longitude', 'is_location_exact', 'property_type',\n",
       "       'room_type', 'accommodates', 'bathrooms', 'bedrooms', 'beds',\n",
       "       'bed_type', 'amenities', 'square_feet', 'price', 'weekly_price',\n",
       "       'monthly_price', 'security_deposit', 'cleaning_fee', 'guests_included',\n",
       "       'extra_people', 'minimum_nights', 'maximum_nights',\n",
       "       'minimum_minimum_nights', 'maximum_minimum_nights',\n",
       "       'minimum_maximum_nights', 'maximum_maximum_nights',\n",
       "       'minimum_nights_avg_ntm', 'maximum_nights_avg_ntm', 'calendar_updated',\n",
       "       'availability_30', 'availability_60', 'availability_90',\n",
       "       'availability_365', 'calendar_last_scraped', 'number_of_reviews',\n",
       "       'number_of_reviews_ltm', 'first_review', 'last_review',\n",
       "       'review_scores_rating', 'review_scores_accuracy',\n",
       "       'review_scores_cleanliness', 'review_scores_checkin',\n",
       "       'review_scores_communication', 'review_scores_location',\n",
       "       'review_scores_value', 'requires_license', 'license',\n",
       "       'jurisdiction_names', 'instant_bookable', 'is_business_travel_ready',\n",
       "       'cancellation_policy', 'require_guest_profile_picture',\n",
       "       'require_guest_phone_verification', 'calculated_host_listings_count',\n",
       "       'calculated_host_listings_count_entire_homes',\n",
       "       'calculated_host_listings_count_private_rooms',\n",
       "       'calculated_host_listings_count_shared_rooms', 'reviews_per_month'],\n",
       "      dtype='object')"
      ]
     },
     "execution_count": 4,
     "metadata": {},
     "output_type": "execute_result"
    }
   ],
   "source": [
    "#look at the name of the colums in the dataset\n",
    "df.columns\n"
   ]
  },
  {
   "cell_type": "markdown",
   "id": "3ecbdd6d",
   "metadata": {},
   "source": [
    "**I will look at the columns in these groups:**\n",
    "\n",
    "- Location Data\n",
    "- Dates\n",
    "- Host Data\n",
    "- Property Info\n",
    "- Review Scores\n",
    "- Other"
   ]
  },
  {
   "cell_type": "markdown",
   "id": "06b1b357",
   "metadata": {},
   "source": [
    "## Location Data"
   ]
  },
  {
   "cell_type": "code",
   "execution_count": 6,
   "id": "f14f039c",
   "metadata": {},
   "outputs": [
    {
     "data": {
      "text/html": [
       "<div>\n",
       "<style scoped>\n",
       "    .dataframe tbody tr th:only-of-type {\n",
       "        vertical-align: middle;\n",
       "    }\n",
       "\n",
       "    .dataframe tbody tr th {\n",
       "        vertical-align: top;\n",
       "    }\n",
       "\n",
       "    .dataframe thead th {\n",
       "        text-align: right;\n",
       "    }\n",
       "</style>\n",
       "<table border=\"1\" class=\"dataframe\">\n",
       "  <thead>\n",
       "    <tr style=\"text-align: right;\">\n",
       "      <th></th>\n",
       "      <th>street</th>\n",
       "      <th>neighbourhood</th>\n",
       "      <th>neighbourhood_cleansed</th>\n",
       "      <th>neighbourhood_group_cleansed</th>\n",
       "      <th>zipcode</th>\n",
       "      <th>market</th>\n",
       "      <th>smart_location</th>\n",
       "      <th>latitude</th>\n",
       "      <th>longitude</th>\n",
       "      <th>is_location_exact</th>\n",
       "    </tr>\n",
       "  </thead>\n",
       "  <tbody>\n",
       "    <tr>\n",
       "      <th>0</th>\n",
       "      <td>Rio de Janeiro, RJ, Brazil</td>\n",
       "      <td>Centro</td>\n",
       "      <td>Centro</td>\n",
       "      <td>NaN</td>\n",
       "      <td>20231-092</td>\n",
       "      <td>Rio De Janeiro</td>\n",
       "      <td>Rio de Janeiro, Brazil</td>\n",
       "      <td>-22.914490</td>\n",
       "      <td>-43.188010</td>\n",
       "      <td>t</td>\n",
       "    </tr>\n",
       "    <tr>\n",
       "      <th>1</th>\n",
       "      <td>Copacabana, Rio de Janeiro, Rio de Janeiro, Br...</td>\n",
       "      <td>Copacabana</td>\n",
       "      <td>Copacabana</td>\n",
       "      <td>NaN</td>\n",
       "      <td>22030</td>\n",
       "      <td>Rio De Janeiro</td>\n",
       "      <td>Copacabana, Rio de Janeiro, Brazil</td>\n",
       "      <td>-22.964951</td>\n",
       "      <td>-43.184627</td>\n",
       "      <td>t</td>\n",
       "    </tr>\n",
       "    <tr>\n",
       "      <th>2</th>\n",
       "      <td>Rio de Janeiro, Rio de Janeiro, Brazil</td>\n",
       "      <td>Leme</td>\n",
       "      <td>Leme</td>\n",
       "      <td>NaN</td>\n",
       "      <td>22010-060</td>\n",
       "      <td>Rio De Janeiro</td>\n",
       "      <td>Rio de Janeiro, Brazil</td>\n",
       "      <td>-22.960568</td>\n",
       "      <td>-43.171205</td>\n",
       "      <td>f</td>\n",
       "    </tr>\n",
       "    <tr>\n",
       "      <th>3</th>\n",
       "      <td>Rio de Janeiro, Rio de Janeiro, Brazil</td>\n",
       "      <td>Botafogo</td>\n",
       "      <td>Botafogo</td>\n",
       "      <td>NaN</td>\n",
       "      <td>22290080</td>\n",
       "      <td>Rio De Janeiro</td>\n",
       "      <td>Rio de Janeiro, Brazil</td>\n",
       "      <td>-22.955190</td>\n",
       "      <td>-43.177640</td>\n",
       "      <td>t</td>\n",
       "    </tr>\n",
       "    <tr>\n",
       "      <th>4</th>\n",
       "      <td>Rio de Janeiro, Rio de Janeiro, Brazil</td>\n",
       "      <td>Botafogo</td>\n",
       "      <td>Botafogo</td>\n",
       "      <td>NaN</td>\n",
       "      <td>22260</td>\n",
       "      <td>Rio De Janeiro</td>\n",
       "      <td>Rio de Janeiro, Brazil</td>\n",
       "      <td>-22.949137</td>\n",
       "      <td>-43.189833</td>\n",
       "      <td>t</td>\n",
       "    </tr>\n",
       "  </tbody>\n",
       "</table>\n",
       "</div>"
      ],
      "text/plain": [
       "                                              street neighbourhood  \\\n",
       "0                         Rio de Janeiro, RJ, Brazil        Centro   \n",
       "1  Copacabana, Rio de Janeiro, Rio de Janeiro, Br...    Copacabana   \n",
       "2             Rio de Janeiro, Rio de Janeiro, Brazil          Leme   \n",
       "3             Rio de Janeiro, Rio de Janeiro, Brazil      Botafogo   \n",
       "4             Rio de Janeiro, Rio de Janeiro, Brazil      Botafogo   \n",
       "\n",
       "  neighbourhood_cleansed  neighbourhood_group_cleansed    zipcode  \\\n",
       "0                 Centro                           NaN  20231-092   \n",
       "1             Copacabana                           NaN      22030   \n",
       "2                   Leme                           NaN  22010-060   \n",
       "3               Botafogo                           NaN   22290080   \n",
       "4               Botafogo                           NaN      22260   \n",
       "\n",
       "           market                      smart_location   latitude  longitude  \\\n",
       "0  Rio De Janeiro              Rio de Janeiro, Brazil -22.914490 -43.188010   \n",
       "1  Rio De Janeiro  Copacabana, Rio de Janeiro, Brazil -22.964951 -43.184627   \n",
       "2  Rio De Janeiro              Rio de Janeiro, Brazil -22.960568 -43.171205   \n",
       "3  Rio De Janeiro              Rio de Janeiro, Brazil -22.955190 -43.177640   \n",
       "4  Rio De Janeiro              Rio de Janeiro, Brazil -22.949137 -43.189833   \n",
       "\n",
       "  is_location_exact  \n",
       "0                 t  \n",
       "1                 t  \n",
       "2                 f  \n",
       "3                 t  \n",
       "4                 t  "
      ]
     },
     "execution_count": 6,
     "metadata": {},
     "output_type": "execute_result"
    }
   ],
   "source": [
    "df[['street', 'neighbourhood', 'neighbourhood_cleansed',\n",
    "    'neighbourhood_group_cleansed', 'zipcode','market',\n",
    "    'smart_location','latitude', 'longitude', \n",
    "    'is_location_exact']].head(5)"
   ]
  },
  {
   "cell_type": "markdown",
   "id": "3169d8ea",
   "metadata": {},
   "source": [
    "- neighbourhood_cleansed seems the most appropriate to use. could also use lat/long "
   ]
  },
  {
   "cell_type": "markdown",
   "id": "31f69afb",
   "metadata": {},
   "source": [
    "### neighbourhood_cleansed"
   ]
  },
  {
   "cell_type": "code",
   "execution_count": 10,
   "id": "7a0b0935",
   "metadata": {},
   "outputs": [
    {
     "data": {
      "text/plain": [
       "count         721768\n",
       "unique           159\n",
       "top       Copacabana\n",
       "freq          179991\n",
       "Name: neighbourhood_cleansed, dtype: object"
      ]
     },
     "execution_count": 10,
     "metadata": {},
     "output_type": "execute_result"
    }
   ],
   "source": [
    "df['neighbourhood_cleansed'].describe()\n",
    "#159 unique values -- too high!"
   ]
  },
  {
   "cell_type": "code",
   "execution_count": 7,
   "id": "797d15ae",
   "metadata": {},
   "outputs": [
    {
     "data": {
      "text/plain": [
       "Copacabana                  179991\n",
       "Barra da Tijuca              81441\n",
       "Ipanema                      60644\n",
       "Jacarepaguá                  41594\n",
       "Recreio dos Bandeirantes     36217\n",
       "Botafogo                     35243\n",
       "Leblon                       32929\n",
       "Santa Teresa                 23850\n",
       "Centro                       19620\n",
       "Flamengo                     19035\n",
       "Tijuca                       15982\n",
       "Laranjeiras                  15294\n",
       "Leme                         12659\n",
       "Name: neighbourhood_cleansed, dtype: int64"
      ]
     },
     "execution_count": 7,
     "metadata": {},
     "output_type": "execute_result"
    }
   ],
   "source": [
    "#if we were to take a threshhold of 80,\n",
    "cum_sum = df['neighbourhood_cleansed'].value_counts() \\\n",
    "                                      .cumsum() \\\n",
    "                                      .reset_index() \\\n",
    "                                      .rename(columns={\"neighbourhood_cleansed\": \"nh_cum_sum\",\n",
    "                                                       \"index\":\"neighbourhood_cleansed\"})\n",
    "\n",
    "df = df.merge(cum_sum, on = 'neighbourhood_cleansed',how='left')\n",
    "\n",
    "df.loc[(df['nh_cum_sum'] / df.shape[0]) <= 0.8]['neighbourhood_cleansed'].value_counts()"
   ]
  },
  {
   "cell_type": "code",
   "execution_count": 8,
   "id": "24ab3334",
   "metadata": {},
   "outputs": [],
   "source": [
    "df['neighbourhood_grouped'] = df.apply(\n",
    "    lambda x: x['neighbourhood_cleansed'] if x['nh_cum_sum'] / df.shape[0] <= 0.8 else 'other',axis=1)"
   ]
  },
  {
   "cell_type": "code",
   "execution_count": 9,
   "id": "b57ed471",
   "metadata": {},
   "outputs": [
    {
     "data": {
      "image/png": "[encoded data removed]",
      "text/plain": [
       "<Figure size 1080x576 with 1 Axes>"
      ]
     },
     "metadata": {},
     "output_type": "display_data"
    }
   ],
   "source": [
    "sns.set(rc = {'figure.figsize':(15,8)})\n",
    "ax = sns.boxplot(x = 'neighbourhood_grouped', y = 'price',data = df)"
   ]
  },
  {
   "cell_type": "code",
   "execution_count": 18,
   "id": "0003e183",
   "metadata": {},
   "outputs": [
    {
     "data": {
      "text/plain": [
       "[(0.0, 2500.0)]"
      ]
     },
     "execution_count": 18,
     "metadata": {},
     "output_type": "execute_result"
    },
    {
     "data": {
      "image/png": "[encoded data removed]",
      "text/plain": [
       "<Figure size 1080x576 with 1 Axes>"
      ]
     },
     "metadata": {},
     "output_type": "display_data"
    }
   ],
   "source": [
    "#closer look at the boxplots\n",
    "ax = sns.boxplot(x = 'neighbourhood_grouped', y='price',data=df, whis=[10,90])\n",
    "ax.set(ylim=(0, 2500))"
   ]
  },
  {
   "cell_type": "code",
   "execution_count": 16,
   "id": "b2ee857c",
   "metadata": {},
   "outputs": [
    {
     "data": {
      "text/html": [
       "<div>\n",
       "<style scoped>\n",
       "    .dataframe tbody tr th:only-of-type {\n",
       "        vertical-align: middle;\n",
       "    }\n",
       "\n",
       "    .dataframe tbody tr th {\n",
       "        vertical-align: top;\n",
       "    }\n",
       "\n",
       "    .dataframe thead th {\n",
       "        text-align: right;\n",
       "    }\n",
       "</style>\n",
       "<table border=\"1\" class=\"dataframe\">\n",
       "  <thead>\n",
       "    <tr style=\"text-align: right;\">\n",
       "      <th></th>\n",
       "      <th>street</th>\n",
       "      <th>neighbourhood_cleansed</th>\n",
       "    </tr>\n",
       "  </thead>\n",
       "  <tbody>\n",
       "    <tr>\n",
       "      <th>0</th>\n",
       "      <td>Rio de Janeiro, RJ, Brazil</td>\n",
       "      <td>Centro</td>\n",
       "    </tr>\n",
       "    <tr>\n",
       "      <th>2</th>\n",
       "      <td>Rio de Janeiro, Rio de Janeiro, Brazil</td>\n",
       "      <td>Leme</td>\n",
       "    </tr>\n",
       "    <tr>\n",
       "      <th>3</th>\n",
       "      <td>Rio de Janeiro, Rio de Janeiro, Brazil</td>\n",
       "      <td>Botafogo</td>\n",
       "    </tr>\n",
       "    <tr>\n",
       "      <th>5</th>\n",
       "      <td>Rio de Janeiro, Rio de Janeiro, Brazil</td>\n",
       "      <td>Copacabana</td>\n",
       "    </tr>\n",
       "    <tr>\n",
       "      <th>6</th>\n",
       "      <td>Rio, Rio de Janeiro, Brazil</td>\n",
       "      <td>Quintino Bocaiúva</td>\n",
       "    </tr>\n",
       "    <tr>\n",
       "      <th>...</th>\n",
       "      <td>...</td>\n",
       "      <td>...</td>\n",
       "    </tr>\n",
       "    <tr>\n",
       "      <th>694371</th>\n",
       "      <td>Bonsucesso, Rio de Janeiro, Brazil</td>\n",
       "      <td>Glória</td>\n",
       "    </tr>\n",
       "    <tr>\n",
       "      <th>696833</th>\n",
       "      <td>Copacabana- RJ, Rio de Janeiro, Brazil</td>\n",
       "      <td>Copacabana</td>\n",
       "    </tr>\n",
       "    <tr>\n",
       "      <th>702815</th>\n",
       "      <td>Rio de janeiro, RJ, Brazil</td>\n",
       "      <td>Curicica</td>\n",
       "    </tr>\n",
       "    <tr>\n",
       "      <th>714138</th>\n",
       "      <td>Río de Janeiro, RJ, Brazil</td>\n",
       "      <td>Flamengo</td>\n",
       "    </tr>\n",
       "    <tr>\n",
       "      <th>717281</th>\n",
       "      <td>Benfica, Rio de Janeiro, Brazil</td>\n",
       "      <td>São Cristóvão</td>\n",
       "    </tr>\n",
       "  </tbody>\n",
       "</table>\n",
       "<p>1723 rows × 2 columns</p>\n",
       "</div>"
      ],
      "text/plain": [
       "                                        street neighbourhood_cleansed\n",
       "0                   Rio de Janeiro, RJ, Brazil                 Centro\n",
       "2       Rio de Janeiro, Rio de Janeiro, Brazil                   Leme\n",
       "3       Rio de Janeiro, Rio de Janeiro, Brazil               Botafogo\n",
       "5       Rio de Janeiro, Rio de Janeiro, Brazil             Copacabana\n",
       "6                  Rio, Rio de Janeiro, Brazil      Quintino Bocaiúva\n",
       "...                                        ...                    ...\n",
       "694371      Bonsucesso, Rio de Janeiro, Brazil                 Glória\n",
       "696833  Copacabana- RJ, Rio de Janeiro, Brazil             Copacabana\n",
       "702815              Rio de janeiro, RJ, Brazil               Curicica\n",
       "714138              Río de Janeiro, RJ, Brazil               Flamengo\n",
       "717281         Benfica, Rio de Janeiro, Brazil          São Cristóvão\n",
       "\n",
       "[1723 rows x 2 columns]"
      ]
     },
     "execution_count": 16,
     "metadata": {},
     "output_type": "execute_result"
    }
   ],
   "source": [
    "# does street column contain different info to neighbourhood?\n",
    "df.loc[~(df['street'].str.split(',',n=1,expand=True)[0] == df['neighbourhood_cleansed'])\n",
    "       ][['street','neighbourhood_cleansed']].drop_duplicates()\n",
    "# yes"
   ]
  },
  {
   "cell_type": "code",
   "execution_count": 17,
   "id": "e73d7aa9",
   "metadata": {},
   "outputs": [
    {
     "data": {
      "text/plain": [
       "count             721768\n",
       "unique               438\n",
       "top       rio de janeiro\n",
       "freq              441841\n",
       "Name: 0, dtype: object"
      ]
     },
     "execution_count": 17,
     "metadata": {},
     "output_type": "execute_result"
    }
   ],
   "source": [
    "df['street'].str.lower().str.strip().str.split(',', expand=True)[0].describe()\n",
    "#but over half the streets are just the name of the city."
   ]
  },
  {
   "cell_type": "code",
   "execution_count": 18,
   "id": "b755225d",
   "metadata": {},
   "outputs": [
    {
     "data": {
      "text/plain": [
       "rio de janeiro              441841\n",
       "copacabana                   67688\n",
       "rio                          47581\n",
       "barra da tijuca              22673\n",
       "ipanema                      17237\n",
       "recreio dos bandeirantes     10738\n",
       "botafogo                     10589\n",
       "leblon                        9640\n",
       "centro                        7916\n",
       "rio de janeiro                7148\n",
       "Name: 0, dtype: int64"
      ]
     },
     "execution_count": 18,
     "metadata": {},
     "output_type": "execute_result"
    }
   ],
   "source": [
    "df['street'].str.lower().str.strip().str.split(',', expand=True)[0].value_counts().head(10)\n",
    "#top 10 either just say some form of rdj, or just say the neighbourhood which we alreay have in neighbourhood_cleansed"
   ]
  },
  {
   "cell_type": "code",
   "execution_count": 19,
   "id": "175bf5a3",
   "metadata": {},
   "outputs": [
    {
     "data": {
      "text/html": [
       "<div>\n",
       "<style scoped>\n",
       "    .dataframe tbody tr th:only-of-type {\n",
       "        vertical-align: middle;\n",
       "    }\n",
       "\n",
       "    .dataframe tbody tr th {\n",
       "        vertical-align: top;\n",
       "    }\n",
       "\n",
       "    .dataframe thead th {\n",
       "        text-align: right;\n",
       "    }\n",
       "</style>\n",
       "<table border=\"1\" class=\"dataframe\">\n",
       "  <thead>\n",
       "    <tr style=\"text-align: right;\">\n",
       "      <th></th>\n",
       "      <th>calendar_updated</th>\n",
       "      <th>last_scraped</th>\n",
       "    </tr>\n",
       "  </thead>\n",
       "  <tbody>\n",
       "    <tr>\n",
       "      <th>0</th>\n",
       "      <td>9 months ago</td>\n",
       "      <td>2020-05-25</td>\n",
       "    </tr>\n",
       "    <tr>\n",
       "      <th>1</th>\n",
       "      <td>48 months ago</td>\n",
       "      <td>2018-07-14</td>\n",
       "    </tr>\n",
       "    <tr>\n",
       "      <th>2</th>\n",
       "      <td>12 months ago</td>\n",
       "      <td>2018-11-15</td>\n",
       "    </tr>\n",
       "    <tr>\n",
       "      <th>3</th>\n",
       "      <td>3 months ago</td>\n",
       "      <td>2019-03-13</td>\n",
       "    </tr>\n",
       "    <tr>\n",
       "      <th>4</th>\n",
       "      <td>32 months ago</td>\n",
       "      <td>2018-07-14</td>\n",
       "    </tr>\n",
       "    <tr>\n",
       "      <th>...</th>\n",
       "      <td>...</td>\n",
       "      <td>...</td>\n",
       "    </tr>\n",
       "    <tr>\n",
       "      <th>721763</th>\n",
       "      <td>28 months ago</td>\n",
       "      <td>2019-01-18</td>\n",
       "    </tr>\n",
       "    <tr>\n",
       "      <th>721764</th>\n",
       "      <td>7 months ago</td>\n",
       "      <td>2018-11-15</td>\n",
       "    </tr>\n",
       "    <tr>\n",
       "      <th>721765</th>\n",
       "      <td>24 months ago</td>\n",
       "      <td>2018-07-14</td>\n",
       "    </tr>\n",
       "    <tr>\n",
       "      <th>721766</th>\n",
       "      <td>36 months ago</td>\n",
       "      <td>2020-03-19</td>\n",
       "    </tr>\n",
       "    <tr>\n",
       "      <th>721767</th>\n",
       "      <td>today</td>\n",
       "      <td>2019-08-15</td>\n",
       "    </tr>\n",
       "  </tbody>\n",
       "</table>\n",
       "<p>721768 rows × 2 columns</p>\n",
       "</div>"
      ],
      "text/plain": [
       "       calendar_updated last_scraped\n",
       "0          9 months ago   2020-05-25\n",
       "1         48 months ago   2018-07-14\n",
       "2         12 months ago   2018-11-15\n",
       "3          3 months ago   2019-03-13\n",
       "4         32 months ago   2018-07-14\n",
       "...                 ...          ...\n",
       "721763    28 months ago   2019-01-18\n",
       "721764     7 months ago   2018-11-15\n",
       "721765    24 months ago   2018-07-14\n",
       "721766    36 months ago   2020-03-19\n",
       "721767            today   2019-08-15\n",
       "\n",
       "[721768 rows x 2 columns]"
      ]
     },
     "execution_count": 19,
     "metadata": {},
     "output_type": "execute_result"
    }
   ],
   "source": [
    "df[['calendar_updated','last_scraped']]\n",
    "# use last_scraped for date"
   ]
  },
  {
   "cell_type": "code",
   "execution_count": 19,
   "id": "779e142b",
   "metadata": {},
   "outputs": [
    {
     "data": {
      "image/png": "[encoded data removed]",
      "text/plain": [
       "<Figure size 1080x576 with 1 Axes>"
      ]
     },
     "metadata": {},
     "output_type": "display_data"
    }
   ],
   "source": [
    "df['scrape_month'] = pd.to_datetime(df['last_scraped'], format='%Y-%m-%d').dt.month\n",
    "ax = sns.boxplot(x = 'scrape_month', y = 'price',data = df,whis=[10, 90])"
   ]
  },
  {
   "cell_type": "code",
   "execution_count": 25,
   "id": "8d470ad9",
   "metadata": {},
   "outputs": [
    {
     "data": {
      "text/plain": [
       "[(0.0, 2100.0)]"
      ]
     },
     "execution_count": 25,
     "metadata": {},
     "output_type": "execute_result"
    },
    {
     "data": {
      "image/png": "[encoded data removed]",
      "text/plain": [
       "<Figure size 1080x576 with 1 Axes>"
      ]
     },
     "metadata": {},
     "output_type": "display_data"
    }
   ],
   "source": [
    "df['scrape_month'] = pd.to_datetime(df['last_scraped'], format='%Y-%m-%d').dt.month\n",
    "ax = sns.boxplot(x = 'scrape_month', y = 'price',data = df,whis=[5,95])\n",
    "ax.set(ylim=(0, 2100))\n",
    "# this looks to reflect the seasons in brasil. although i'm surprised the price differences arent bigger"
   ]
  },
  {
   "cell_type": "code",
   "execution_count": 26,
   "id": "f2dc1124",
   "metadata": {},
   "outputs": [
    {
     "data": {
      "text/html": [
       "<div>\n",
       "<style scoped>\n",
       "    .dataframe tbody tr th:only-of-type {\n",
       "        vertical-align: middle;\n",
       "    }\n",
       "\n",
       "    .dataframe tbody tr th {\n",
       "        vertical-align: top;\n",
       "    }\n",
       "\n",
       "    .dataframe thead th {\n",
       "        text-align: right;\n",
       "    }\n",
       "</style>\n",
       "<table border=\"1\" class=\"dataframe\">\n",
       "  <thead>\n",
       "    <tr style=\"text-align: right;\">\n",
       "      <th></th>\n",
       "      <th>host_since</th>\n",
       "      <th>host_location</th>\n",
       "      <th>host_response_time</th>\n",
       "      <th>host_response_rate</th>\n",
       "      <th>host_acceptance_rate</th>\n",
       "      <th>host_is_superhost</th>\n",
       "      <th>host_neighbourhood</th>\n",
       "      <th>host_listings_count</th>\n",
       "      <th>host_total_listings_count</th>\n",
       "      <th>host_verifications</th>\n",
       "      <th>host_has_profile_pic</th>\n",
       "      <th>host_identity_verified</th>\n",
       "    </tr>\n",
       "  </thead>\n",
       "  <tbody>\n",
       "    <tr>\n",
       "      <th>0</th>\n",
       "      <td>2018-02-21</td>\n",
       "      <td>United States</td>\n",
       "      <td>within a day</td>\n",
       "      <td>100%</td>\n",
       "      <td>NaN</td>\n",
       "      <td>f</td>\n",
       "      <td>NaN</td>\n",
       "      <td>1.0</td>\n",
       "      <td>1.0</td>\n",
       "      <td>['email', 'phone', 'jumio', 'offline_governmen...</td>\n",
       "      <td>t</td>\n",
       "      <td>f</td>\n",
       "    </tr>\n",
       "    <tr>\n",
       "      <th>1</th>\n",
       "      <td>2014-05-06</td>\n",
       "      <td>BR</td>\n",
       "      <td>NaN</td>\n",
       "      <td>NaN</td>\n",
       "      <td>NaN</td>\n",
       "      <td>f</td>\n",
       "      <td>Copacabana</td>\n",
       "      <td>1.0</td>\n",
       "      <td>1.0</td>\n",
       "      <td>['email', 'phone']</td>\n",
       "      <td>t</td>\n",
       "      <td>f</td>\n",
       "    </tr>\n",
       "    <tr>\n",
       "      <th>2</th>\n",
       "      <td>2014-12-02</td>\n",
       "      <td>Rio de Janeiro, State of Rio de Janeiro, Brazil</td>\n",
       "      <td>within a day</td>\n",
       "      <td>75%</td>\n",
       "      <td>NaN</td>\n",
       "      <td>f</td>\n",
       "      <td>NaN</td>\n",
       "      <td>5.0</td>\n",
       "      <td>5.0</td>\n",
       "      <td>['email', 'phone', 'facebook', 'reviews']</td>\n",
       "      <td>t</td>\n",
       "      <td>f</td>\n",
       "    </tr>\n",
       "    <tr>\n",
       "      <th>3</th>\n",
       "      <td>2014-12-03</td>\n",
       "      <td>Rio de Janeiro, State of Rio de Janeiro, Brazil</td>\n",
       "      <td>within an hour</td>\n",
       "      <td>100%</td>\n",
       "      <td>NaN</td>\n",
       "      <td>f</td>\n",
       "      <td>Botafogo</td>\n",
       "      <td>1.0</td>\n",
       "      <td>1.0</td>\n",
       "      <td>['email', 'phone', 'reviews', 'jumio', 'govern...</td>\n",
       "      <td>t</td>\n",
       "      <td>t</td>\n",
       "    </tr>\n",
       "    <tr>\n",
       "      <th>4</th>\n",
       "      <td>2014-12-11</td>\n",
       "      <td>Rio de Janeiro, State of Rio de Janeiro, Brazil</td>\n",
       "      <td>NaN</td>\n",
       "      <td>NaN</td>\n",
       "      <td>NaN</td>\n",
       "      <td>f</td>\n",
       "      <td>Botafogo</td>\n",
       "      <td>2.0</td>\n",
       "      <td>2.0</td>\n",
       "      <td>['email', 'phone', 'reviews']</td>\n",
       "      <td>t</td>\n",
       "      <td>f</td>\n",
       "    </tr>\n",
       "  </tbody>\n",
       "</table>\n",
       "</div>"
      ],
      "text/plain": [
       "   host_since                                    host_location  \\\n",
       "0  2018-02-21                                    United States   \n",
       "1  2014-05-06                                               BR   \n",
       "2  2014-12-02  Rio de Janeiro, State of Rio de Janeiro, Brazil   \n",
       "3  2014-12-03  Rio de Janeiro, State of Rio de Janeiro, Brazil   \n",
       "4  2014-12-11  Rio de Janeiro, State of Rio de Janeiro, Brazil   \n",
       "\n",
       "  host_response_time host_response_rate host_acceptance_rate  \\\n",
       "0       within a day               100%                  NaN   \n",
       "1                NaN                NaN                  NaN   \n",
       "2       within a day                75%                  NaN   \n",
       "3     within an hour               100%                  NaN   \n",
       "4                NaN                NaN                  NaN   \n",
       "\n",
       "  host_is_superhost host_neighbourhood  host_listings_count  \\\n",
       "0                 f                NaN                  1.0   \n",
       "1                 f         Copacabana                  1.0   \n",
       "2                 f                NaN                  5.0   \n",
       "3                 f           Botafogo                  1.0   \n",
       "4                 f           Botafogo                  2.0   \n",
       "\n",
       "   host_total_listings_count  \\\n",
       "0                        1.0   \n",
       "1                        1.0   \n",
       "2                        5.0   \n",
       "3                        1.0   \n",
       "4                        2.0   \n",
       "\n",
       "                                  host_verifications host_has_profile_pic  \\\n",
       "0  ['email', 'phone', 'jumio', 'offline_governmen...                    t   \n",
       "1                                 ['email', 'phone']                    t   \n",
       "2          ['email', 'phone', 'facebook', 'reviews']                    t   \n",
       "3  ['email', 'phone', 'reviews', 'jumio', 'govern...                    t   \n",
       "4                      ['email', 'phone', 'reviews']                    t   \n",
       "\n",
       "  host_identity_verified  \n",
       "0                      f  \n",
       "1                      f  \n",
       "2                      f  \n",
       "3                      t  \n",
       "4                      f  "
      ]
     },
     "execution_count": 26,
     "metadata": {},
     "output_type": "execute_result"
    }
   ],
   "source": [
    "#host columns\n",
    "df[['host_since', 'host_location', 'host_response_time',\n",
    "       'host_response_rate', 'host_acceptance_rate', 'host_is_superhost',\n",
    "       'host_neighbourhood', 'host_listings_count',\n",
    "       'host_total_listings_count', 'host_verifications',\n",
    "       'host_has_profile_pic', 'host_identity_verified']].head(5)\n"
   ]
  },
  {
   "cell_type": "code",
   "execution_count": 42,
   "id": "5d2b457c",
   "metadata": {},
   "outputs": [
    {
     "data": {
      "text/plain": [
       "host_since                   0.000496\n",
       "host_location                0.005446\n",
       "host_response_time           0.445460\n",
       "host_response_rate           0.445464\n",
       "host_acceptance_rate         0.895102\n",
       "host_is_superhost            0.000000\n",
       "host_neighbourhood           0.384284\n",
       "host_listings_count          0.000496\n",
       "host_total_listings_count    0.000496\n",
       "host_verifications           0.000000\n",
       "host_has_profile_pic         0.000000\n",
       "host_identity_verified       0.000000\n",
       "dtype: float64"
      ]
     },
     "execution_count": 42,
     "metadata": {},
     "output_type": "execute_result"
    }
   ],
   "source": [
    "#check nulls\n",
    "df[['host_since', 'host_location', 'host_response_time',\n",
    "       'host_response_rate', 'host_acceptance_rate', 'host_is_superhost',\n",
    "       'host_neighbourhood', 'host_listings_count',\n",
    "       'host_total_listings_count', 'host_verifications',\n",
    "       'host_has_profile_pic', 'host_identity_verified']].isna().sum().apply(lambda x: x / df.shape[0])\n",
    "#anything with >30% nulls not happy to use\n",
    "\n"
   ]
  },
  {
   "cell_type": "code",
   "execution_count": 39,
   "id": "e2b34fa9",
   "metadata": {},
   "outputs": [
    {
     "data": {
      "text/html": [
       "<div>\n",
       "<style scoped>\n",
       "    .dataframe tbody tr th:only-of-type {\n",
       "        vertical-align: middle;\n",
       "    }\n",
       "\n",
       "    .dataframe tbody tr th {\n",
       "        vertical-align: top;\n",
       "    }\n",
       "\n",
       "    .dataframe thead th {\n",
       "        text-align: right;\n",
       "    }\n",
       "</style>\n",
       "<table border=\"1\" class=\"dataframe\">\n",
       "  <thead>\n",
       "    <tr style=\"text-align: right;\">\n",
       "      <th></th>\n",
       "      <th>host_is_superhost</th>\n",
       "      <th>host_has_profile_pic</th>\n",
       "      <th>host_identity_verified</th>\n",
       "    </tr>\n",
       "  </thead>\n",
       "  <tbody>\n",
       "    <tr>\n",
       "      <th>0</th>\n",
       "      <td>0</td>\n",
       "      <td>1</td>\n",
       "      <td>0</td>\n",
       "    </tr>\n",
       "    <tr>\n",
       "      <th>1</th>\n",
       "      <td>0</td>\n",
       "      <td>1</td>\n",
       "      <td>0</td>\n",
       "    </tr>\n",
       "    <tr>\n",
       "      <th>2</th>\n",
       "      <td>0</td>\n",
       "      <td>1</td>\n",
       "      <td>0</td>\n",
       "    </tr>\n",
       "    <tr>\n",
       "      <th>3</th>\n",
       "      <td>0</td>\n",
       "      <td>1</td>\n",
       "      <td>1</td>\n",
       "    </tr>\n",
       "    <tr>\n",
       "      <th>4</th>\n",
       "      <td>0</td>\n",
       "      <td>1</td>\n",
       "      <td>0</td>\n",
       "    </tr>\n",
       "    <tr>\n",
       "      <th>...</th>\n",
       "      <td>...</td>\n",
       "      <td>...</td>\n",
       "      <td>...</td>\n",
       "    </tr>\n",
       "    <tr>\n",
       "      <th>721763</th>\n",
       "      <td>0</td>\n",
       "      <td>1</td>\n",
       "      <td>1</td>\n",
       "    </tr>\n",
       "    <tr>\n",
       "      <th>721764</th>\n",
       "      <td>0</td>\n",
       "      <td>1</td>\n",
       "      <td>0</td>\n",
       "    </tr>\n",
       "    <tr>\n",
       "      <th>721765</th>\n",
       "      <td>0</td>\n",
       "      <td>1</td>\n",
       "      <td>0</td>\n",
       "    </tr>\n",
       "    <tr>\n",
       "      <th>721766</th>\n",
       "      <td>0</td>\n",
       "      <td>1</td>\n",
       "      <td>0</td>\n",
       "    </tr>\n",
       "    <tr>\n",
       "      <th>721767</th>\n",
       "      <td>0</td>\n",
       "      <td>1</td>\n",
       "      <td>1</td>\n",
       "    </tr>\n",
       "  </tbody>\n",
       "</table>\n",
       "<p>721768 rows × 3 columns</p>\n",
       "</div>"
      ],
      "text/plain": [
       "        host_is_superhost  host_has_profile_pic  host_identity_verified\n",
       "0                       0                     1                       0\n",
       "1                       0                     1                       0\n",
       "2                       0                     1                       0\n",
       "3                       0                     1                       1\n",
       "4                       0                     1                       0\n",
       "...                   ...                   ...                     ...\n",
       "721763                  0                     1                       1\n",
       "721764                  0                     1                       0\n",
       "721765                  0                     1                       0\n",
       "721766                  0                     1                       0\n",
       "721767                  0                     1                       1\n",
       "\n",
       "[721768 rows x 3 columns]"
      ]
     },
     "execution_count": 39,
     "metadata": {},
     "output_type": "execute_result"
    }
   ],
   "source": [
    "#convert to true/false\n",
    "columns = ['host_is_superhost', 'host_has_profile_pic', 'host_identity_verified']\n",
    "df[columns] = df[columns].applymap(lambda x: 1 if x == 't' else 0)\n",
    "df[columns]"
   ]
  },
  {
   "cell_type": "code",
   "execution_count": 40,
   "id": "01d66d58",
   "metadata": {},
   "outputs": [
    {
     "data": {
      "text/plain": [
       "<AxesSubplot:>"
      ]
     },
     "execution_count": 40,
     "metadata": {},
     "output_type": "execute_result"
    },
    {
     "data": {
      "image/png": "[encoded data removed]",
      "text/plain": [
       "<Figure size 1080x576 with 2 Axes>"
      ]
     },
     "metadata": {},
     "output_type": "display_data"
    }
   ],
   "source": [
    "sns.heatmap(df[columns + ['host_listings_count',\n",
    "       'host_total_listings_count']].corr())\n",
    "# listings_count and total_listing count are identical\n",
    "#for the others no notable correlation\n"
   ]
  },
  {
   "cell_type": "code",
   "execution_count": 27,
   "id": "d3d8e614",
   "metadata": {},
   "outputs": [
    {
     "data": {
      "image/png": "[encoded data removed]",
      "text/plain": [
       "<Figure size 360x216 with 1 Axes>"
      ]
     },
     "metadata": {},
     "output_type": "display_data"
    },
    {
     "data": {
      "image/png": "[encoded data removed]",
      "text/plain": [
       "<Figure size 360x216 with 1 Axes>"
      ]
     },
     "metadata": {},
     "output_type": "display_data"
    },
    {
     "data": {
      "image/png": "[encoded data removed]",
      "text/plain": [
       "<Figure size 360x216 with 1 Axes>"
      ]
     },
     "metadata": {},
     "output_type": "display_data"
    }
   ],
   "source": [
    "sns.set(rc = {'figure.figsize':(5,3)})\n",
    "for column in ['host_is_superhost','host_has_profile_pic', 'host_identity_verified' ]:\n",
    "    ax = sns.countplot(x=column,data=df)\n",
    "    \n",
    "    abs_values = df[column].value_counts(ascending=False).values\n",
    "\n",
    "    ax.bar_label(container=ax.containers[0], labels=abs_values)\n",
    "    plt.show()\n",
    "    \n",
    "#observations\n",
    "# host_has_profile_pic near zero variance. remove?"
   ]
  },
  {
   "cell_type": "code",
   "execution_count": 28,
   "id": "934119a8",
   "metadata": {},
   "outputs": [
    {
     "data": {
      "image/png": "[encoded data removed]",
      "text/plain": [
       "<Figure size 360x216 with 1 Axes>"
      ]
     },
     "metadata": {},
     "output_type": "display_data"
    },
    {
     "data": {
      "image/png": "[encoded data removed]",
      "text/plain": [
       "<Figure size 360x216 with 1 Axes>"
      ]
     },
     "metadata": {},
     "output_type": "display_data"
    },
    {
     "data": {
      "image/png": "[encoded data removed]",
      "text/plain": [
       "<Figure size 360x216 with 1 Axes>"
      ]
     },
     "metadata": {},
     "output_type": "display_data"
    }
   ],
   "source": [
    "for column in ['host_is_superhost','host_has_profile_pic', 'host_identity_verified' ]:\n",
    "    sns.barplot(x=column,y='price',data=df)\n",
    "    plt.show()\n",
    "#hosts who are identified sell for on average less han hosts who arent verified "
   ]
  },
  {
   "cell_type": "code",
   "execution_count": 29,
   "id": "0d0359b5",
   "metadata": {},
   "outputs": [
    {
     "data": {
      "image/png": "[encoded data removed]",
      "text/plain": [
       "<Figure size 360x216 with 1 Axes>"
      ]
     },
     "metadata": {},
     "output_type": "display_data"
    },
    {
     "data": {
      "image/png": "[encoded data removed]",
      "text/plain": [
       "<Figure size 360x216 with 1 Axes>"
      ]
     },
     "metadata": {},
     "output_type": "display_data"
    },
    {
     "data": {
      "image/png": "[encoded data removed]",
      "text/plain": [
       "<Figure size 360x216 with 1 Axes>"
      ]
     },
     "metadata": {},
     "output_type": "display_data"
    }
   ],
   "source": [
    "#looking at only airbnbs that are fully booked\n",
    "for column in ['host_is_superhost','host_has_profile_pic', 'host_identity_verified' ]:\n",
    "    sns.barplot(x=column,y='price',data=df.loc[df['availability_30'] == 0])\n",
    "    plt.show()\n",
    "#no difference ?"
   ]
  },
  {
   "cell_type": "code",
   "execution_count": 30,
   "id": "fda82b98",
   "metadata": {},
   "outputs": [],
   "source": [
    "columns = ['property_type','room_type', 'accommodates', 'bathrooms', 'bedrooms', 'beds',\n",
    "       'bed_type', 'amenities', 'square_feet', 'security_deposit', 'cleaning_fee', 'guests_included',\n",
    "       'extra_people', 'minimum_nights', 'maximum_nights']"
   ]
  },
  {
   "cell_type": "code",
   "execution_count": 31,
   "id": "848b020a",
   "metadata": {},
   "outputs": [
    {
     "data": {
      "text/plain": [
       "property_type       0.000000\n",
       "room_type           0.000000\n",
       "accommodates        0.000000\n",
       "bathrooms           0.001919\n",
       "bedrooms            0.000912\n",
       "beds                0.002775\n",
       "bed_type            0.000000\n",
       "amenities           0.000000\n",
       "square_feet         0.984440\n",
       "security_deposit    0.467431\n",
       "cleaning_fee        0.347678\n",
       "guests_included     0.000000\n",
       "extra_people        0.000000\n",
       "minimum_nights      0.000000\n",
       "maximum_nights      0.000000\n",
       "dtype: float64"
      ]
     },
     "execution_count": 31,
     "metadata": {},
     "output_type": "execute_result"
    }
   ],
   "source": [
    "df[columns].isna().sum().apply(lambda x: x / df.shape[0])\n",
    "# wouldnt like to use anything with > 30% missing data"
   ]
  },
  {
   "cell_type": "code",
   "execution_count": 32,
   "id": "85ee540d",
   "metadata": {},
   "outputs": [
    {
     "data": {
      "text/html": [
       "<div>\n",
       "<style scoped>\n",
       "    .dataframe tbody tr th:only-of-type {\n",
       "        vertical-align: middle;\n",
       "    }\n",
       "\n",
       "    .dataframe tbody tr th {\n",
       "        vertical-align: top;\n",
       "    }\n",
       "\n",
       "    .dataframe thead th {\n",
       "        text-align: right;\n",
       "    }\n",
       "</style>\n",
       "<table border=\"1\" class=\"dataframe\">\n",
       "  <thead>\n",
       "    <tr style=\"text-align: right;\">\n",
       "      <th></th>\n",
       "      <th>accommodates</th>\n",
       "      <th>bathrooms</th>\n",
       "      <th>bedrooms</th>\n",
       "      <th>beds</th>\n",
       "      <th>minimum_nights</th>\n",
       "      <th>maximum_nights</th>\n",
       "    </tr>\n",
       "  </thead>\n",
       "  <tbody>\n",
       "    <tr>\n",
       "      <th>count</th>\n",
       "      <td>721768.000000</td>\n",
       "      <td>720383.000000</td>\n",
       "      <td>721110.000000</td>\n",
       "      <td>719765.000000</td>\n",
       "      <td>721768.000000</td>\n",
       "      <td>7.217680e+05</td>\n",
       "    </tr>\n",
       "    <tr>\n",
       "      <th>mean</th>\n",
       "      <td>4.204598</td>\n",
       "      <td>1.694075</td>\n",
       "      <td>1.643835</td>\n",
       "      <td>2.599150</td>\n",
       "      <td>4.559408</td>\n",
       "      <td>4.606728e+04</td>\n",
       "    </tr>\n",
       "    <tr>\n",
       "      <th>std</th>\n",
       "      <td>2.605562</td>\n",
       "      <td>1.164869</td>\n",
       "      <td>1.078333</td>\n",
       "      <td>2.065564</td>\n",
       "      <td>20.870824</td>\n",
       "      <td>7.817720e+06</td>\n",
       "    </tr>\n",
       "    <tr>\n",
       "      <th>min</th>\n",
       "      <td>1.000000</td>\n",
       "      <td>0.000000</td>\n",
       "      <td>0.000000</td>\n",
       "      <td>0.000000</td>\n",
       "      <td>1.000000</td>\n",
       "      <td>1.000000e+00</td>\n",
       "    </tr>\n",
       "    <tr>\n",
       "      <th>25%</th>\n",
       "      <td>2.000000</td>\n",
       "      <td>1.000000</td>\n",
       "      <td>1.000000</td>\n",
       "      <td>1.000000</td>\n",
       "      <td>1.000000</td>\n",
       "      <td>3.000000e+01</td>\n",
       "    </tr>\n",
       "    <tr>\n",
       "      <th>50%</th>\n",
       "      <td>4.000000</td>\n",
       "      <td>1.000000</td>\n",
       "      <td>1.000000</td>\n",
       "      <td>2.000000</td>\n",
       "      <td>2.000000</td>\n",
       "      <td>1.125000e+03</td>\n",
       "    </tr>\n",
       "    <tr>\n",
       "      <th>75%</th>\n",
       "      <td>6.000000</td>\n",
       "      <td>2.000000</td>\n",
       "      <td>2.000000</td>\n",
       "      <td>3.000000</td>\n",
       "      <td>4.000000</td>\n",
       "      <td>1.125000e+03</td>\n",
       "    </tr>\n",
       "    <tr>\n",
       "      <th>max</th>\n",
       "      <td>160.000000</td>\n",
       "      <td>200.000000</td>\n",
       "      <td>45.000000</td>\n",
       "      <td>86.000000</td>\n",
       "      <td>1224.000000</td>\n",
       "      <td>2.147484e+09</td>\n",
       "    </tr>\n",
       "  </tbody>\n",
       "</table>\n",
       "</div>"
      ],
      "text/plain": [
       "        accommodates      bathrooms       bedrooms           beds  \\\n",
       "count  721768.000000  720383.000000  721110.000000  719765.000000   \n",
       "mean        4.204598       1.694075       1.643835       2.599150   \n",
       "std         2.605562       1.164869       1.078333       2.065564   \n",
       "min         1.000000       0.000000       0.000000       0.000000   \n",
       "25%         2.000000       1.000000       1.000000       1.000000   \n",
       "50%         4.000000       1.000000       1.000000       2.000000   \n",
       "75%         6.000000       2.000000       2.000000       3.000000   \n",
       "max       160.000000     200.000000      45.000000      86.000000   \n",
       "\n",
       "       minimum_nights  maximum_nights  \n",
       "count   721768.000000    7.217680e+05  \n",
       "mean         4.559408    4.606728e+04  \n",
       "std         20.870824    7.817720e+06  \n",
       "min          1.000000    1.000000e+00  \n",
       "25%          1.000000    3.000000e+01  \n",
       "50%          2.000000    1.125000e+03  \n",
       "75%          4.000000    1.125000e+03  \n",
       "max       1224.000000    2.147484e+09  "
      ]
     },
     "execution_count": 32,
     "metadata": {},
     "output_type": "execute_result"
    }
   ],
   "source": [
    "df[['accommodates', 'bathrooms', 'bedrooms', 'beds', 'minimum_nights', 'maximum_nights']].describe()"
   ]
  },
  {
   "cell_type": "code",
   "execution_count": 33,
   "id": "5d8b5ded",
   "metadata": {},
   "outputs": [
    {
     "data": {
      "image/png": "[encoded data removed]",
      "text/plain": [
       "<Figure size 360x216 with 1 Axes>"
      ]
     },
     "metadata": {},
     "output_type": "display_data"
    },
    {
     "data": {
      "image/png": "[encoded data removed]",
      "text/plain": [
       "<Figure size 360x216 with 1 Axes>"
      ]
     },
     "metadata": {},
     "output_type": "display_data"
    },
    {
     "data": {
      "image/png": "[encoded data removed]",
      "text/plain": [
       "<Figure size 360x216 with 1 Axes>"
      ]
     },
     "metadata": {},
     "output_type": "display_data"
    }
   ],
   "source": [
    "for column in ['property_type','room_type', 'bed_type']:\n",
    "    sns.barplot(x=column,y='price',data=df)\n",
    "    plt.show()"
   ]
  },
  {
   "cell_type": "code",
   "execution_count": 56,
   "id": "79923308",
   "metadata": {},
   "outputs": [
    {
     "data": {
      "text/plain": [
       "Apartment                 558489\n",
       "House                      74279\n",
       "Condominium                31323\n",
       "Serviced apartment         15632\n",
       "Loft                       13097\n",
       "Bed and breakfast           5143\n",
       "Hostel                      4058\n",
       "Guest suite                 3813\n",
       "Other                       2596\n",
       "Guesthouse                  2578\n",
       "Villa                       2245\n",
       "Townhouse                   1251\n",
       "Hotel                       1143\n",
       "Aparthotel                  1108\n",
       "Boutique hotel               716\n",
       "Earth house                  596\n",
       "Cottage                      508\n",
       "Chalet                       499\n",
       "Tiny house                   472\n",
       "Boat                         434\n",
       "Casa particular (Cuba)       336\n",
       "Cabin                        225\n",
       "Bungalow                     217\n",
       "Dorm                         191\n",
       "Nature lodge                 177\n",
       "Castle                       124\n",
       "Treehouse                     57\n",
       "Farm stay                     56\n",
       "Island                        49\n",
       "Tent                          44\n",
       "Campsite                      43\n",
       "Hut                           39\n",
       "Resort                        34\n",
       "Vacation home                 32\n",
       "Barn                          28\n",
       "Camper/RV                     24\n",
       "Houseboat                     23\n",
       "Tipi                          22\n",
       "Yurt                          20\n",
       "Dome house                     8\n",
       "Pousada                        7\n",
       "Parking Space                  6\n",
       "Pension (South Korea)          6\n",
       "In-law                         6\n",
       "Train                          4\n",
       "Igloo                          4\n",
       "Timeshare                      2\n",
       "Casa particular                2\n",
       "Plane                          1\n",
       "Lighthouse                     1\n",
       "Name: property_type, dtype: int64"
      ]
     },
     "execution_count": 56,
     "metadata": {},
     "output_type": "execute_result"
    }
   ],
   "source": [
    "#closer look at property type\n",
    "df['property_type'].value_counts()"
   ]
  },
  {
   "cell_type": "code",
   "execution_count": 36,
   "id": "88e3899f",
   "metadata": {},
   "outputs": [
    {
     "data": {
      "text/plain": [
       "Apartment    558489\n",
       "House         74279\n",
       "Name: property_type, dtype: int64"
      ]
     },
     "execution_count": 36,
     "metadata": {},
     "output_type": "execute_result"
    }
   ],
   "source": [
    "#lets take a threshold of 90%\n",
    "cum_sum = df['property_type'].value_counts() \\\n",
    "                                      .cumsum() \\\n",
    "                                      .reset_index() \\\n",
    "                                      .rename(columns={\"property_type\": \"pt_cum_sum\",\n",
    "                                                       \"index\":\"property_type\"})\n",
    "\n",
    "df = df.merge(cum_sum, on = 'property_type',how='left')\n",
    "\n",
    "df.loc[(df['pt_cum_sum'] / df.shape[0]) <= 0.9]['property_type'].value_counts()"
   ]
  },
  {
   "cell_type": "code",
   "execution_count": 37,
   "id": "57bead6f",
   "metadata": {},
   "outputs": [],
   "source": [
    "df['property_type_grouped'] = df.apply(\n",
    "    lambda x: x['property_type'] if x['pt_cum_sum'] / df.shape[0] <= 0.9 else 'other',axis=1)"
   ]
  },
  {
   "cell_type": "code",
   "execution_count": 39,
   "id": "13ff3132",
   "metadata": {},
   "outputs": [
    {
     "data": {
      "text/plain": [
       "[(0.0, 2000.0)]"
      ]
     },
     "execution_count": 39,
     "metadata": {},
     "output_type": "execute_result"
    },
    {
     "data": {
      "image/png": "[encoded data removed]",
      "text/plain": [
       "<Figure size 360x216 with 1 Axes>"
      ]
     },
     "metadata": {},
     "output_type": "display_data"
    }
   ],
   "source": [
    "ax = sns.boxplot(x='price',y='property_type_grouped',data=df)\n",
    "ax.set(xlim=(0, 2000))\n",
    "#could definitely improve this. apply domain knowledge to property_type?"
   ]
  },
  {
   "cell_type": "code",
   "execution_count": 44,
   "id": "7bcdcf86",
   "metadata": {},
   "outputs": [],
   "source": [
    "import numpy as np\n",
    "##apply domain knowledge\n",
    "#anything that contains apartment,+condimino > apartment\n",
    "#anything that contains 'house' or 'home' (minus boathouse/treehouse) or Loft or 'casa' or bed and breakfast or Guest suite or bungalow or villa > house\n",
    "# dorm , pousada , hostel > hostel\n",
    "# contains 'hotel' or resort > hotel\n",
    "# anythin else > other\n",
    "\n",
    "df['property_type_adjusted'] = np.select(\n",
    "    [df['property_type'].str.lower().str.contains(r'\\s(?:boat|tree)', regex=True),\n",
    "     df['property_type'].str.lower().str.contains(r'apartment|condominium', regex=True),\n",
    "     df['property_type'].str.lower().str.contains(r'house|home|loft|casa|breakfast|guest suite|bungalow|villa', regex=True),\n",
    "     df['property_type'].str.lower().str.contains(r'hostel|pousada|dorm', regex=True),\n",
    "     df['property_type'].str.lower().str.contains(r'hotel|resort', regex=True)\n",
    "    ],\n",
    "    ['other','apartment', 'house','hostel', 'hotel'\n",
    "    ], 'other')"
   ]
  },
  {
   "cell_type": "code",
   "execution_count": 45,
   "id": "885dbd2c",
   "metadata": {},
   "outputs": [
    {
     "data": {
      "text/plain": [
       "apartment    605444\n",
       "house        104150\n",
       "other          4917\n",
       "hostel         4256\n",
       "hotel          3001\n",
       "Name: property_type_adjusted, dtype: int64"
      ]
     },
     "execution_count": 45,
     "metadata": {},
     "output_type": "execute_result"
    }
   ],
   "source": [
    "df['property_type_adjusted'].value_counts()"
   ]
  },
  {
   "cell_type": "code",
   "execution_count": 46,
   "id": "2e45e280",
   "metadata": {},
   "outputs": [
    {
     "data": {
      "text/plain": [
       "[(0.0, 2000.0)]"
      ]
     },
     "execution_count": 46,
     "metadata": {},
     "output_type": "execute_result"
    },
    {
     "data": {
      "image/png": "[encoded data removed]",
      "text/plain": [
       "<Figure size 360x216 with 1 Axes>"
      ]
     },
     "metadata": {},
     "output_type": "display_data"
    }
   ],
   "source": [
    "ax = sns.boxplot(x='price',y='property_type_adjusted',data=df)\n",
    "ax.set(xlim=(0, 2000))\n",
    "#these groups make more sense to me"
   ]
  },
  {
   "cell_type": "code",
   "execution_count": null,
   "id": "b904f667",
   "metadata": {},
   "outputs": [],
   "source": []
  }
 ],
 "metadata": {
  "kernelspec": {
   "display_name": "Python 3 (ipykernel)",
   "language": "python",
   "name": "python3"
  },
  "language_info": {
   "codemirror_mode": {
    "name": "ipython",
    "version": 3
   },
   "file_extension": ".py",
   "mimetype": "text/x-python",
   "name": "python",
   "nbconvert_exporter": "python",
   "pygments_lexer": "ipython3",
   "version": "3.8.10"
  }
 },
 "nbformat": 4,
 "nbformat_minor": 5
}
