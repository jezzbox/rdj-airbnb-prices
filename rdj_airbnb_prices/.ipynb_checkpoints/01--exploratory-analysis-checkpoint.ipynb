{
 "cells": [
  {
   "cell_type": "code",
   "execution_count": 5,
   "id": "80c39ee1",
   "metadata": {},
   "outputs": [],
   "source": [
    "import pandas as pd\n",
    "import os\n",
    "import seaborn as sns\n",
    "import matplotlib.pyplot as plt"
   ]
  },
  {
   "cell_type": "code",
   "execution_count": 6,
   "id": "3cf25e56",
   "metadata": {},
   "outputs": [],
   "source": [
    "## read csv into dataframe\n",
    "#put the id dtype to make sure csv is formatted correctly\n",
    "df = pd.read_csv('../data/train.csv',dtype={'id':int, 'license':str})"
   ]
  },
  {
   "cell_type": "code",
   "execution_count": 7,
   "id": "8f3db6cc",
   "metadata": {},
   "outputs": [],
   "source": [
    "df['price'] = df['price'].str.replace(r'[$,]','',regex=True).astype(float)"
   ]
  },
  {
   "cell_type": "code",
   "execution_count": 8,
   "id": "6bb93715",
   "metadata": {},
   "outputs": [
    {
     "data": {
      "text/plain": [
       "Index(['id', 'last_scraped', 'host_since', 'host_location',\n",
       "       'host_response_time', 'host_response_rate', 'host_acceptance_rate',\n",
       "       'host_is_superhost', 'host_neighbourhood', 'host_listings_count',\n",
       "       'host_total_listings_count', 'host_verifications',\n",
       "       'host_has_profile_pic', 'host_identity_verified', 'street',\n",
       "       'neighbourhood', 'neighbourhood_cleansed',\n",
       "       'neighbourhood_group_cleansed', 'zipcode', 'market', 'smart_location',\n",
       "       'latitude', 'longitude', 'is_location_exact', 'property_type',\n",
       "       'room_type', 'accommodates', 'bathrooms', 'bedrooms', 'beds',\n",
       "       'bed_type', 'amenities', 'square_feet', 'price', 'weekly_price',\n",
       "       'monthly_price', 'security_deposit', 'cleaning_fee', 'guests_included',\n",
       "       'extra_people', 'minimum_nights', 'maximum_nights',\n",
       "       'minimum_minimum_nights', 'maximum_minimum_nights',\n",
       "       'minimum_maximum_nights', 'maximum_maximum_nights',\n",
       "       'minimum_nights_avg_ntm', 'maximum_nights_avg_ntm', 'calendar_updated',\n",
       "       'availability_30', 'availability_60', 'availability_90',\n",
       "       'availability_365', 'calendar_last_scraped', 'number_of_reviews',\n",
       "       'number_of_reviews_ltm', 'first_review', 'last_review',\n",
       "       'review_scores_rating', 'review_scores_accuracy',\n",
       "       'review_scores_cleanliness', 'review_scores_checkin',\n",
       "       'review_scores_communication', 'review_scores_location',\n",
       "       'review_scores_value', 'requires_license', 'license',\n",
       "       'jurisdiction_names', 'instant_bookable', 'is_business_travel_ready',\n",
       "       'cancellation_policy', 'require_guest_profile_picture',\n",
       "       'require_guest_phone_verification', 'calculated_host_listings_count',\n",
       "       'calculated_host_listings_count_entire_homes',\n",
       "       'calculated_host_listings_count_private_rooms',\n",
       "       'calculated_host_listings_count_shared_rooms', 'reviews_per_month'],\n",
       "      dtype='object')"
      ]
     },
     "execution_count": 8,
     "metadata": {},
     "output_type": "execute_result"
    }
   ],
   "source": [
    "#look at the name of the colums in the dataset\n",
    "df.columns\n"
   ]
  },
  {
   "cell_type": "markdown",
   "id": "3ecbdd6d",
   "metadata": {},
   "source": [
    "**I will look at the columns in these groups:**\n",
    "\n",
    "- Location Data\n",
    "- Dates\n",
    "- Host Data\n",
    "- Property Info\n",
    "- Review Scores\n",
    "- Other"
   ]
  },
  {
   "cell_type": "markdown",
   "id": "06b1b357",
   "metadata": {},
   "source": [
    "## Location Data"
   ]
  },
  {
   "cell_type": "code",
   "execution_count": 9,
   "id": "f14f039c",
   "metadata": {},
   "outputs": [
    {
     "data": {
      "text/html": [
       "<div>\n",
       "<style scoped>\n",
       "    .dataframe tbody tr th:only-of-type {\n",
       "        vertical-align: middle;\n",
       "    }\n",
       "\n",
       "    .dataframe tbody tr th {\n",
       "        vertical-align: top;\n",
       "    }\n",
       "\n",
       "    .dataframe thead th {\n",
       "        text-align: right;\n",
       "    }\n",
       "</style>\n",
       "<table border=\"1\" class=\"dataframe\">\n",
       "  <thead>\n",
       "    <tr style=\"text-align: right;\">\n",
       "      <th></th>\n",
       "      <th>street</th>\n",
       "      <th>neighbourhood</th>\n",
       "      <th>neighbourhood_cleansed</th>\n",
       "      <th>neighbourhood_group_cleansed</th>\n",
       "      <th>zipcode</th>\n",
       "      <th>market</th>\n",
       "      <th>smart_location</th>\n",
       "      <th>latitude</th>\n",
       "      <th>longitude</th>\n",
       "      <th>is_location_exact</th>\n",
       "    </tr>\n",
       "  </thead>\n",
       "  <tbody>\n",
       "    <tr>\n",
       "      <th>0</th>\n",
       "      <td>Rio de Janeiro, RJ, Brazil</td>\n",
       "      <td>Centro</td>\n",
       "      <td>Centro</td>\n",
       "      <td>NaN</td>\n",
       "      <td>20231-092</td>\n",
       "      <td>Rio De Janeiro</td>\n",
       "      <td>Rio de Janeiro, Brazil</td>\n",
       "      <td>-22.914490</td>\n",
       "      <td>-43.188010</td>\n",
       "      <td>t</td>\n",
       "    </tr>\n",
       "    <tr>\n",
       "      <th>1</th>\n",
       "      <td>Copacabana, Rio de Janeiro, Rio de Janeiro, Br...</td>\n",
       "      <td>Copacabana</td>\n",
       "      <td>Copacabana</td>\n",
       "      <td>NaN</td>\n",
       "      <td>22030</td>\n",
       "      <td>Rio De Janeiro</td>\n",
       "      <td>Copacabana, Rio de Janeiro, Brazil</td>\n",
       "      <td>-22.964951</td>\n",
       "      <td>-43.184627</td>\n",
       "      <td>t</td>\n",
       "    </tr>\n",
       "    <tr>\n",
       "      <th>2</th>\n",
       "      <td>Rio de Janeiro, Rio de Janeiro, Brazil</td>\n",
       "      <td>Leme</td>\n",
       "      <td>Leme</td>\n",
       "      <td>NaN</td>\n",
       "      <td>22010-060</td>\n",
       "      <td>Rio De Janeiro</td>\n",
       "      <td>Rio de Janeiro, Brazil</td>\n",
       "      <td>-22.960568</td>\n",
       "      <td>-43.171205</td>\n",
       "      <td>f</td>\n",
       "    </tr>\n",
       "    <tr>\n",
       "      <th>3</th>\n",
       "      <td>Rio de Janeiro, Rio de Janeiro, Brazil</td>\n",
       "      <td>Botafogo</td>\n",
       "      <td>Botafogo</td>\n",
       "      <td>NaN</td>\n",
       "      <td>22290080</td>\n",
       "      <td>Rio De Janeiro</td>\n",
       "      <td>Rio de Janeiro, Brazil</td>\n",
       "      <td>-22.955190</td>\n",
       "      <td>-43.177640</td>\n",
       "      <td>t</td>\n",
       "    </tr>\n",
       "    <tr>\n",
       "      <th>4</th>\n",
       "      <td>Rio de Janeiro, Rio de Janeiro, Brazil</td>\n",
       "      <td>Botafogo</td>\n",
       "      <td>Botafogo</td>\n",
       "      <td>NaN</td>\n",
       "      <td>22260</td>\n",
       "      <td>Rio De Janeiro</td>\n",
       "      <td>Rio de Janeiro, Brazil</td>\n",
       "      <td>-22.949137</td>\n",
       "      <td>-43.189833</td>\n",
       "      <td>t</td>\n",
       "    </tr>\n",
       "  </tbody>\n",
       "</table>\n",
       "</div>"
      ],
      "text/plain": [
       "                                              street neighbourhood  \\\n",
       "0                         Rio de Janeiro, RJ, Brazil        Centro   \n",
       "1  Copacabana, Rio de Janeiro, Rio de Janeiro, Br...    Copacabana   \n",
       "2             Rio de Janeiro, Rio de Janeiro, Brazil          Leme   \n",
       "3             Rio de Janeiro, Rio de Janeiro, Brazil      Botafogo   \n",
       "4             Rio de Janeiro, Rio de Janeiro, Brazil      Botafogo   \n",
       "\n",
       "  neighbourhood_cleansed  neighbourhood_group_cleansed    zipcode  \\\n",
       "0                 Centro                           NaN  20231-092   \n",
       "1             Copacabana                           NaN      22030   \n",
       "2                   Leme                           NaN  22010-060   \n",
       "3               Botafogo                           NaN   22290080   \n",
       "4               Botafogo                           NaN      22260   \n",
       "\n",
       "           market                      smart_location   latitude  longitude  \\\n",
       "0  Rio De Janeiro              Rio de Janeiro, Brazil -22.914490 -43.188010   \n",
       "1  Rio De Janeiro  Copacabana, Rio de Janeiro, Brazil -22.964951 -43.184627   \n",
       "2  Rio De Janeiro              Rio de Janeiro, Brazil -22.960568 -43.171205   \n",
       "3  Rio De Janeiro              Rio de Janeiro, Brazil -22.955190 -43.177640   \n",
       "4  Rio De Janeiro              Rio de Janeiro, Brazil -22.949137 -43.189833   \n",
       "\n",
       "  is_location_exact  \n",
       "0                 t  \n",
       "1                 t  \n",
       "2                 f  \n",
       "3                 t  \n",
       "4                 t  "
      ]
     },
     "execution_count": 9,
     "metadata": {},
     "output_type": "execute_result"
    }
   ],
   "source": [
    "df[['street', 'neighbourhood', 'neighbourhood_cleansed',\n",
    "    'neighbourhood_group_cleansed', 'zipcode','market',\n",
    "    'smart_location','latitude', 'longitude', \n",
    "    'is_location_exact']].head(5)"
   ]
  },
  {
   "cell_type": "markdown",
   "id": "3169d8ea",
   "metadata": {},
   "source": [
    "- Many of these columns are not necessary (coutnry, state, city).\n",
    "- neighbourhood_cleansed seems the most appropriate to use. could also use lat/long "
   ]
  },
  {
   "cell_type": "markdown",
   "id": "31f69afb",
   "metadata": {},
   "source": [
    "### neighbourhood_cleansed"
   ]
  },
  {
   "cell_type": "code",
   "execution_count": 10,
   "id": "7a0b0935",
   "metadata": {},
   "outputs": [
    {
     "data": {
      "text/plain": [
       "count         721768\n",
       "unique           159\n",
       "top       Copacabana\n",
       "freq          179991\n",
       "Name: neighbourhood_cleansed, dtype: object"
      ]
     },
     "execution_count": 10,
     "metadata": {},
     "output_type": "execute_result"
    }
   ],
   "source": [
    "df['neighbourhood_cleansed'].describe()\n",
    "#159 unique values -- too high!"
   ]
  },
  {
   "cell_type": "code",
   "execution_count": 17,
   "id": "797d15ae",
   "metadata": {},
   "outputs": [
    {
     "data": {
      "text/plain": [
       "Copacabana                  179991\n",
       "Barra da Tijuca              81441\n",
       "Ipanema                      60644\n",
       "Jacarepaguá                  41594\n",
       "Recreio dos Bandeirantes     36217\n",
       "Botafogo                     35243\n",
       "Leblon                       32929\n",
       "Santa Teresa                 23850\n",
       "Centro                       19620\n",
       "Flamengo                     19035\n",
       "Tijuca                       15982\n",
       "Laranjeiras                  15294\n",
       "Leme                         12659\n",
       "Name: neighbourhood_cleansed, dtype: int64"
      ]
     },
     "execution_count": 17,
     "metadata": {},
     "output_type": "execute_result"
    }
   ],
   "source": [
    "#if we were to take a threshhold of 80,\n",
    "cum_sum = df['neighbourhood_cleansed'].value_counts() \\\n",
    "                                      .cumsum() \\\n",
    "                                      .reset_index() \\\n",
    "                                      .rename(columns={\"neighbourhood_cleansed\": \"nh_cum_sum\",\n",
    "                                                       \"index\":\"neighbourhood_cleansed\"})\n",
    "\n",
    "df = df.merge(cum_sum, on = 'neighbourhood_cleansed',how='left')\n",
    "\n",
    "df.loc[(df['nh_cum_sum'] / df.shape[0]) <= 0.8]['neighbourhood_cleansed'].value_counts()"
   ]
  },
  {
   "cell_type": "code",
   "execution_count": 19,
   "id": "24ab3334",
   "metadata": {},
   "outputs": [],
   "source": [
    "df['neighbourhood_grouped'] = df.apply(\n",
    "    lambda x: x['neighbourhood_cleansed'] if x['nh_cum_sum'] / df.shape[0] <= 0.8 else 'other',axis=1)"
   ]
  },
  {
   "cell_type": "code",
   "execution_count": 50,
   "id": "b57ed471",
   "metadata": {},
   "outputs": [
    {
     "data": {
      "text/plain": [
       "[(0.0, 2000.0)]"
      ]
     },
     "execution_count": 50,
     "metadata": {},
     "output_type": "execute_result"
    },
    {
     "data": {
      "image/png": "[encoded data removed]",
      "text/plain": [
       "<Figure size 1080x576 with 1 Axes>"
      ]
     },
     "metadata": {},
     "output_type": "display_data"
    }
   ],
   "source": [
    "sns.set(rc = {'figure.figsize':(15,8)})\n",
    "ax = sns.boxplot(x = 'neighbourhood_grouped', y = 'price',data = df)\n",
    "ax.set(ylim=(0, 2000))"
   ]
  },
  {
   "cell_type": "code",
   "execution_count": 53,
   "id": "0003e183",
   "metadata": {},
   "outputs": [
    {
     "data": {
      "text/plain": [
       "[(0.0, 3000.0)]"
      ]
     },
     "execution_count": 53,
     "metadata": {},
     "output_type": "execute_result"
    },
    {
     "data": {
      "image/png": "[encoded data removed]",
      "text/plain": [
       "<Figure size 1080x576 with 1 Axes>"
      ]
     },
     "metadata": {},
     "output_type": "display_data"
    }
   ],
   "source": [
    "#closer look at the boxplots\n",
    "sns.set(rc = {'figure.figsize':(15,8)})\n",
    "ax = sns.boxplot(x = 'neighbourhood_grouped', y = 'price',data = df)\n",
    "ax.set(ylim=(0, 3000))"
   ]
  },
  {
   "cell_type": "code",
   "execution_count": 26,
   "id": "b2ee857c",
   "metadata": {},
   "outputs": [
    {
     "data": {
      "text/html": [
       "<div>\n",
       "<style scoped>\n",
       "    .dataframe tbody tr th:only-of-type {\n",
       "        vertical-align: middle;\n",
       "    }\n",
       "\n",
       "    .dataframe tbody tr th {\n",
       "        vertical-align: top;\n",
       "    }\n",
       "\n",
       "    .dataframe thead th {\n",
       "        text-align: right;\n",
       "    }\n",
       "</style>\n",
       "<table border=\"1\" class=\"dataframe\">\n",
       "  <thead>\n",
       "    <tr style=\"text-align: right;\">\n",
       "      <th></th>\n",
       "      <th>street</th>\n",
       "      <th>neighbourhood_cleansed</th>\n",
       "    </tr>\n",
       "  </thead>\n",
       "  <tbody>\n",
       "    <tr>\n",
       "      <th>0</th>\n",
       "      <td>Rio de Janeiro, RJ, Brazil</td>\n",
       "      <td>Centro</td>\n",
       "    </tr>\n",
       "    <tr>\n",
       "      <th>2</th>\n",
       "      <td>Rio de Janeiro, Rio de Janeiro, Brazil</td>\n",
       "      <td>Leme</td>\n",
       "    </tr>\n",
       "    <tr>\n",
       "      <th>3</th>\n",
       "      <td>Rio de Janeiro, Rio de Janeiro, Brazil</td>\n",
       "      <td>Botafogo</td>\n",
       "    </tr>\n",
       "    <tr>\n",
       "      <th>5</th>\n",
       "      <td>Rio de Janeiro, Rio de Janeiro, Brazil</td>\n",
       "      <td>Copacabana</td>\n",
       "    </tr>\n",
       "    <tr>\n",
       "      <th>6</th>\n",
       "      <td>Rio, Rio de Janeiro, Brazil</td>\n",
       "      <td>Quintino Bocaiúva</td>\n",
       "    </tr>\n",
       "    <tr>\n",
       "      <th>...</th>\n",
       "      <td>...</td>\n",
       "      <td>...</td>\n",
       "    </tr>\n",
       "    <tr>\n",
       "      <th>694371</th>\n",
       "      <td>Bonsucesso, Rio de Janeiro, Brazil</td>\n",
       "      <td>Glória</td>\n",
       "    </tr>\n",
       "    <tr>\n",
       "      <th>696833</th>\n",
       "      <td>Copacabana- RJ, Rio de Janeiro, Brazil</td>\n",
       "      <td>Copacabana</td>\n",
       "    </tr>\n",
       "    <tr>\n",
       "      <th>702815</th>\n",
       "      <td>Rio de janeiro, RJ, Brazil</td>\n",
       "      <td>Curicica</td>\n",
       "    </tr>\n",
       "    <tr>\n",
       "      <th>714138</th>\n",
       "      <td>Río de Janeiro, RJ, Brazil</td>\n",
       "      <td>Flamengo</td>\n",
       "    </tr>\n",
       "    <tr>\n",
       "      <th>717281</th>\n",
       "      <td>Benfica, Rio de Janeiro, Brazil</td>\n",
       "      <td>São Cristóvão</td>\n",
       "    </tr>\n",
       "  </tbody>\n",
       "</table>\n",
       "<p>1723 rows × 2 columns</p>\n",
       "</div>"
      ],
      "text/plain": [
       "                                        street neighbourhood_cleansed\n",
       "0                   Rio de Janeiro, RJ, Brazil                 Centro\n",
       "2       Rio de Janeiro, Rio de Janeiro, Brazil                   Leme\n",
       "3       Rio de Janeiro, Rio de Janeiro, Brazil               Botafogo\n",
       "5       Rio de Janeiro, Rio de Janeiro, Brazil             Copacabana\n",
       "6                  Rio, Rio de Janeiro, Brazil      Quintino Bocaiúva\n",
       "...                                        ...                    ...\n",
       "694371      Bonsucesso, Rio de Janeiro, Brazil                 Glória\n",
       "696833  Copacabana- RJ, Rio de Janeiro, Brazil             Copacabana\n",
       "702815              Rio de janeiro, RJ, Brazil               Curicica\n",
       "714138              Río de Janeiro, RJ, Brazil               Flamengo\n",
       "717281         Benfica, Rio de Janeiro, Brazil          São Cristóvão\n",
       "\n",
       "[1723 rows x 2 columns]"
      ]
     },
     "execution_count": 26,
     "metadata": {},
     "output_type": "execute_result"
    }
   ],
   "source": [
    "# does street column contain different info to neighbourhood?\n",
    "df.loc[~(df['street'].str.split(',',n=1,expand=True)[0] == df['neighbourhood_cleansed'])\n",
    "       ][['street','neighbourhood_cleansed']].drop_duplicates()\n",
    "# yes"
   ]
  },
  {
   "cell_type": "code",
   "execution_count": 27,
   "id": "e73d7aa9",
   "metadata": {},
   "outputs": [
    {
     "data": {
      "text/plain": [
       "count             721768\n",
       "unique               438\n",
       "top       rio de janeiro\n",
       "freq              441841\n",
       "Name: 0, dtype: object"
      ]
     },
     "execution_count": 27,
     "metadata": {},
     "output_type": "execute_result"
    }
   ],
   "source": [
    "df['street'].str.lower().str.strip().str.split(',', expand=True)[0].describe()\n",
    "#but over half the streets are just the name of the city."
   ]
  },
  {
   "cell_type": "code",
   "execution_count": 28,
   "id": "b755225d",
   "metadata": {},
   "outputs": [
    {
     "data": {
      "text/plain": [
       "rio de janeiro              441841\n",
       "copacabana                   67688\n",
       "rio                          47581\n",
       "barra da tijuca              22673\n",
       "ipanema                      17237\n",
       "recreio dos bandeirantes     10738\n",
       "botafogo                     10589\n",
       "leblon                        9640\n",
       "centro                        7916\n",
       "rio de janeiro                7148\n",
       "Name: 0, dtype: int64"
      ]
     },
     "execution_count": 28,
     "metadata": {},
     "output_type": "execute_result"
    }
   ],
   "source": [
    "df['street'].str.lower().str.strip().str.split(',', expand=True)[0].value_counts().head(10)\n",
    "#top 10 either just say some form of rdj, or just say the neighbourhood"
   ]
  },
  {
   "cell_type": "code",
   "execution_count": 16,
   "id": "175bf5a3",
   "metadata": {},
   "outputs": [
    {
     "data": {
      "text/plain": [
       "0         2020-01-22\n",
       "1         2020-03-18\n",
       "2         2019-10-19\n",
       "3         2018-12-14\n",
       "4         2018-07-14\n",
       "             ...    \n",
       "721763    2018-08-16\n",
       "721764    2018-11-15\n",
       "721765    2019-09-24\n",
       "721766    2019-02-11\n",
       "721767    2019-04-16\n",
       "Name: last_scraped, Length: 721768, dtype: object"
      ]
     },
     "execution_count": 16,
     "metadata": {},
     "output_type": "execute_result"
    }
   ],
   "source": [
    "df['last_scraped']\n",
    "# use this column for date"
   ]
  },
  {
   "cell_type": "code",
   "execution_count": 59,
   "id": "779e142b",
   "metadata": {},
   "outputs": [
    {
     "data": {
      "text/plain": [
       "[(0.0, 1500.0)]"
      ]
     },
     "execution_count": 59,
     "metadata": {},
     "output_type": "execute_result"
    },
    {
     "data": {
      "image/png": "[encoded data removed]",
      "text/plain": [
       "<Figure size 1080x576 with 1 Axes>"
      ]
     },
     "metadata": {},
     "output_type": "display_data"
    }
   ],
   "source": [
    "df['scrape_month'] = pd.to_datetime(df['last_scraped'], format='%Y-%m-%d').dt.month\n",
    "sns.set(rc = {'figure.figsize':(15,8)})\n",
    "ax = sns.boxplot(x = 'scrape_month', y = 'price',data = df)\n",
    "ax.set(ylim=(0, 1500))"
   ]
  },
  {
   "cell_type": "code",
   "execution_count": 43,
   "id": "f2dc1124",
   "metadata": {},
   "outputs": [
    {
     "data": {
      "text/html": [
       "<div>\n",
       "<style scoped>\n",
       "    .dataframe tbody tr th:only-of-type {\n",
       "        vertical-align: middle;\n",
       "    }\n",
       "\n",
       "    .dataframe tbody tr th {\n",
       "        vertical-align: top;\n",
       "    }\n",
       "\n",
       "    .dataframe thead th {\n",
       "        text-align: right;\n",
       "    }\n",
       "</style>\n",
       "<table border=\"1\" class=\"dataframe\">\n",
       "  <thead>\n",
       "    <tr style=\"text-align: right;\">\n",
       "      <th></th>\n",
       "      <th>host_since</th>\n",
       "      <th>host_location</th>\n",
       "      <th>host_response_time</th>\n",
       "      <th>host_response_rate</th>\n",
       "      <th>host_acceptance_rate</th>\n",
       "      <th>host_is_superhost</th>\n",
       "      <th>host_neighbourhood</th>\n",
       "      <th>host_listings_count</th>\n",
       "      <th>host_total_listings_count</th>\n",
       "      <th>host_verifications</th>\n",
       "      <th>host_has_profile_pic</th>\n",
       "      <th>host_identity_verified</th>\n",
       "    </tr>\n",
       "  </thead>\n",
       "  <tbody>\n",
       "    <tr>\n",
       "      <th>0</th>\n",
       "      <td>2018-02-21</td>\n",
       "      <td>United States</td>\n",
       "      <td>within a day</td>\n",
       "      <td>100%</td>\n",
       "      <td>NaN</td>\n",
       "      <td>f</td>\n",
       "      <td>NaN</td>\n",
       "      <td>1.0</td>\n",
       "      <td>1.0</td>\n",
       "      <td>['email', 'phone', 'jumio', 'offline_governmen...</td>\n",
       "      <td>t</td>\n",
       "      <td>f</td>\n",
       "    </tr>\n",
       "    <tr>\n",
       "      <th>1</th>\n",
       "      <td>2014-05-06</td>\n",
       "      <td>BR</td>\n",
       "      <td>NaN</td>\n",
       "      <td>NaN</td>\n",
       "      <td>NaN</td>\n",
       "      <td>f</td>\n",
       "      <td>Copacabana</td>\n",
       "      <td>1.0</td>\n",
       "      <td>1.0</td>\n",
       "      <td>['email', 'phone']</td>\n",
       "      <td>t</td>\n",
       "      <td>f</td>\n",
       "    </tr>\n",
       "    <tr>\n",
       "      <th>2</th>\n",
       "      <td>2014-12-02</td>\n",
       "      <td>Rio de Janeiro, State of Rio de Janeiro, Brazil</td>\n",
       "      <td>within a day</td>\n",
       "      <td>75%</td>\n",
       "      <td>NaN</td>\n",
       "      <td>f</td>\n",
       "      <td>NaN</td>\n",
       "      <td>5.0</td>\n",
       "      <td>5.0</td>\n",
       "      <td>['email', 'phone', 'facebook', 'reviews']</td>\n",
       "      <td>t</td>\n",
       "      <td>f</td>\n",
       "    </tr>\n",
       "    <tr>\n",
       "      <th>3</th>\n",
       "      <td>2014-12-03</td>\n",
       "      <td>Rio de Janeiro, State of Rio de Janeiro, Brazil</td>\n",
       "      <td>within an hour</td>\n",
       "      <td>100%</td>\n",
       "      <td>NaN</td>\n",
       "      <td>f</td>\n",
       "      <td>Botafogo</td>\n",
       "      <td>1.0</td>\n",
       "      <td>1.0</td>\n",
       "      <td>['email', 'phone', 'reviews', 'jumio', 'govern...</td>\n",
       "      <td>t</td>\n",
       "      <td>t</td>\n",
       "    </tr>\n",
       "    <tr>\n",
       "      <th>4</th>\n",
       "      <td>2014-12-11</td>\n",
       "      <td>Rio de Janeiro, State of Rio de Janeiro, Brazil</td>\n",
       "      <td>NaN</td>\n",
       "      <td>NaN</td>\n",
       "      <td>NaN</td>\n",
       "      <td>f</td>\n",
       "      <td>Botafogo</td>\n",
       "      <td>2.0</td>\n",
       "      <td>2.0</td>\n",
       "      <td>['email', 'phone', 'reviews']</td>\n",
       "      <td>t</td>\n",
       "      <td>f</td>\n",
       "    </tr>\n",
       "  </tbody>\n",
       "</table>\n",
       "</div>"
      ],
      "text/plain": [
       "   host_since                                    host_location  \\\n",
       "0  2018-02-21                                    United States   \n",
       "1  2014-05-06                                               BR   \n",
       "2  2014-12-02  Rio de Janeiro, State of Rio de Janeiro, Brazil   \n",
       "3  2014-12-03  Rio de Janeiro, State of Rio de Janeiro, Brazil   \n",
       "4  2014-12-11  Rio de Janeiro, State of Rio de Janeiro, Brazil   \n",
       "\n",
       "  host_response_time host_response_rate host_acceptance_rate  \\\n",
       "0       within a day               100%                  NaN   \n",
       "1                NaN                NaN                  NaN   \n",
       "2       within a day                75%                  NaN   \n",
       "3     within an hour               100%                  NaN   \n",
       "4                NaN                NaN                  NaN   \n",
       "\n",
       "  host_is_superhost host_neighbourhood  host_listings_count  \\\n",
       "0                 f                NaN                  1.0   \n",
       "1                 f         Copacabana                  1.0   \n",
       "2                 f                NaN                  5.0   \n",
       "3                 f           Botafogo                  1.0   \n",
       "4                 f           Botafogo                  2.0   \n",
       "\n",
       "   host_total_listings_count  \\\n",
       "0                        1.0   \n",
       "1                        1.0   \n",
       "2                        5.0   \n",
       "3                        1.0   \n",
       "4                        2.0   \n",
       "\n",
       "                                  host_verifications host_has_profile_pic  \\\n",
       "0  ['email', 'phone', 'jumio', 'offline_governmen...                    t   \n",
       "1                                 ['email', 'phone']                    t   \n",
       "2          ['email', 'phone', 'facebook', 'reviews']                    t   \n",
       "3  ['email', 'phone', 'reviews', 'jumio', 'govern...                    t   \n",
       "4                      ['email', 'phone', 'reviews']                    t   \n",
       "\n",
       "  host_identity_verified  \n",
       "0                      f  \n",
       "1                      f  \n",
       "2                      f  \n",
       "3                      t  \n",
       "4                      f  "
      ]
     },
     "execution_count": 43,
     "metadata": {},
     "output_type": "execute_result"
    }
   ],
   "source": [
    "#host columns\n",
    "df[['host_since', 'host_location', 'host_response_time',\n",
    "       'host_response_rate', 'host_acceptance_rate', 'host_is_superhost',\n",
    "       'host_neighbourhood', 'host_listings_count',\n",
    "       'host_total_listings_count', 'host_verifications',\n",
    "       'host_has_profile_pic', 'host_identity_verified']].head(5)\n"
   ]
  },
  {
   "cell_type": "code",
   "execution_count": 45,
   "id": "e2b34fa9",
   "metadata": {},
   "outputs": [
    {
     "data": {
      "text/html": [
       "<div>\n",
       "<style scoped>\n",
       "    .dataframe tbody tr th:only-of-type {\n",
       "        vertical-align: middle;\n",
       "    }\n",
       "\n",
       "    .dataframe tbody tr th {\n",
       "        vertical-align: top;\n",
       "    }\n",
       "\n",
       "    .dataframe thead th {\n",
       "        text-align: right;\n",
       "    }\n",
       "</style>\n",
       "<table border=\"1\" class=\"dataframe\">\n",
       "  <thead>\n",
       "    <tr style=\"text-align: right;\">\n",
       "      <th></th>\n",
       "      <th>host_is_superhost</th>\n",
       "      <th>host_has_profile_pic</th>\n",
       "      <th>host_identity_verified</th>\n",
       "    </tr>\n",
       "  </thead>\n",
       "  <tbody>\n",
       "    <tr>\n",
       "      <th>0</th>\n",
       "      <td>0</td>\n",
       "      <td>1</td>\n",
       "      <td>0</td>\n",
       "    </tr>\n",
       "    <tr>\n",
       "      <th>1</th>\n",
       "      <td>0</td>\n",
       "      <td>1</td>\n",
       "      <td>0</td>\n",
       "    </tr>\n",
       "    <tr>\n",
       "      <th>2</th>\n",
       "      <td>0</td>\n",
       "      <td>1</td>\n",
       "      <td>0</td>\n",
       "    </tr>\n",
       "    <tr>\n",
       "      <th>3</th>\n",
       "      <td>0</td>\n",
       "      <td>1</td>\n",
       "      <td>1</td>\n",
       "    </tr>\n",
       "    <tr>\n",
       "      <th>4</th>\n",
       "      <td>0</td>\n",
       "      <td>1</td>\n",
       "      <td>0</td>\n",
       "    </tr>\n",
       "    <tr>\n",
       "      <th>...</th>\n",
       "      <td>...</td>\n",
       "      <td>...</td>\n",
       "      <td>...</td>\n",
       "    </tr>\n",
       "    <tr>\n",
       "      <th>721763</th>\n",
       "      <td>0</td>\n",
       "      <td>1</td>\n",
       "      <td>1</td>\n",
       "    </tr>\n",
       "    <tr>\n",
       "      <th>721764</th>\n",
       "      <td>0</td>\n",
       "      <td>1</td>\n",
       "      <td>0</td>\n",
       "    </tr>\n",
       "    <tr>\n",
       "      <th>721765</th>\n",
       "      <td>0</td>\n",
       "      <td>1</td>\n",
       "      <td>0</td>\n",
       "    </tr>\n",
       "    <tr>\n",
       "      <th>721766</th>\n",
       "      <td>0</td>\n",
       "      <td>1</td>\n",
       "      <td>0</td>\n",
       "    </tr>\n",
       "    <tr>\n",
       "      <th>721767</th>\n",
       "      <td>0</td>\n",
       "      <td>1</td>\n",
       "      <td>1</td>\n",
       "    </tr>\n",
       "  </tbody>\n",
       "</table>\n",
       "<p>721768 rows × 3 columns</p>\n",
       "</div>"
      ],
      "text/plain": [
       "        host_is_superhost  host_has_profile_pic  host_identity_verified\n",
       "0                       0                     1                       0\n",
       "1                       0                     1                       0\n",
       "2                       0                     1                       0\n",
       "3                       0                     1                       1\n",
       "4                       0                     1                       0\n",
       "...                   ...                   ...                     ...\n",
       "721763                  0                     1                       1\n",
       "721764                  0                     1                       0\n",
       "721765                  0                     1                       0\n",
       "721766                  0                     1                       0\n",
       "721767                  0                     1                       1\n",
       "\n",
       "[721768 rows x 3 columns]"
      ]
     },
     "execution_count": 45,
     "metadata": {},
     "output_type": "execute_result"
    }
   ],
   "source": [
    "#convert to true/false\n",
    "columns = ['host_is_superhost', 'host_has_profile_pic', 'host_identity_verified']\n",
    "df[columns] = df[columns].applymap(lambda x: 1 if x == 't' else 0)\n",
    "df[columns]"
   ]
  },
  {
   "cell_type": "code",
   "execution_count": 49,
   "id": "01d66d58",
   "metadata": {},
   "outputs": [
    {
     "data": {
      "text/plain": [
       "<AxesSubplot:>"
      ]
     },
     "execution_count": 49,
     "metadata": {},
     "output_type": "execute_result"
    },
    {
     "data": {
      "image/png": "[encoded data removed]",
      "text/plain": [
       "<Figure size 1080x576 with 2 Axes>"
      ]
     },
     "metadata": {},
     "output_type": "display_data"
    }
   ],
   "source": [
    "sns.heatmap(df[columns + ['host_listings_count',\n",
    "       'host_total_listings_count']].corr())\n",
    "# listings_count and total_listing count are identical\n"
   ]
  },
  {
   "cell_type": "code",
   "execution_count": 40,
   "id": "0c0ca295",
   "metadata": {},
   "outputs": [
    {
     "data": {
      "text/plain": [
       "host_since                      358\n",
       "host_location                  3931\n",
       "host_response_time           321519\n",
       "host_response_rate           321522\n",
       "host_acceptance_rate         646056\n",
       "host_is_superhost               358\n",
       "host_neighbourhood           277364\n",
       "host_listings_count             358\n",
       "host_total_listings_count       358\n",
       "host_verifications                0\n",
       "host_has_profile_pic            358\n",
       "host_identity_verified          358\n",
       "dtype: int64"
      ]
     },
     "execution_count": 40,
     "metadata": {},
     "output_type": "execute_result"
    }
   ],
   "source": [
    "#check nulls\n",
    "df[['host_since', 'host_location', 'host_response_time',\n",
    "       'host_response_rate', 'host_acceptance_rate', 'host_is_superhost',\n",
    "       'host_neighbourhood', 'host_listings_count',\n",
    "       'host_total_listings_count', 'host_verifications',\n",
    "       'host_has_profile_pic', 'host_identity_verified']].isna().sum()"
   ]
  },
  {
   "cell_type": "code",
   "execution_count": 18,
   "id": "d3d8e614",
   "metadata": {},
   "outputs": [
    {
     "data": {
      "image/png": "[encoded data removed]",
      "text/plain": [
       "<Figure size 432x288 with 1 Axes>"
      ]
     },
     "metadata": {
      "needs_background": "light"
     },
     "output_type": "display_data"
    },
    {
     "data": {
      "image/png": "[encoded data removed]",
      "text/plain": [
       "<Figure size 432x288 with 1 Axes>"
      ]
     },
     "metadata": {
      "needs_background": "light"
     },
     "output_type": "display_data"
    },
    {
     "data": {
      "image/png": "[encoded data removed]",
      "text/plain": [
       "<Figure size 432x288 with 1 Axes>"
      ]
     },
     "metadata": {
      "needs_background": "light"
     },
     "output_type": "display_data"
    }
   ],
   "source": [
    "import seaborn as sns \n",
    "import matplotlib.pyplot as plt\n",
    "\n",
    "for column in ['host_is_superhost','host_has_profile_pic', 'host_identity_verified' ]:\n",
    "    ax = sns.countplot(x=column,data=df)\n",
    "    \n",
    "    abs_values = df[column].value_counts(ascending=False).values\n",
    "\n",
    "    ax.bar_label(container=ax.containers[0], labels=abs_values)\n",
    "    plt.show()\n",
    "    \n",
    "#observations\n",
    "# host_has_profile_pic near zero variance. remove?"
   ]
  },
  {
   "cell_type": "code",
   "execution_count": null,
   "id": "934119a8",
   "metadata": {},
   "outputs": [],
   "source": []
  }
 ],
 "metadata": {
  "kernelspec": {
   "display_name": "Python 3 (ipykernel)",
   "language": "python",
   "name": "python3"
  },
  "language_info": {
   "codemirror_mode": {
    "name": "ipython",
    "version": 3
   },
   "file_extension": ".py",
   "mimetype": "text/x-python",
   "name": "python",
   "nbconvert_exporter": "python",
   "pygments_lexer": "ipython3",
   "version": "3.8.10"
  }
 },
 "nbformat": 4,
 "nbformat_minor": 5
}
