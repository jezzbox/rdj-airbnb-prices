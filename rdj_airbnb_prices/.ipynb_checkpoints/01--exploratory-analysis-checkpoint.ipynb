{
 "cells": [
  {
   "cell_type": "code",
   "execution_count": 4,
   "id": "80c39ee1",
   "metadata": {},
   "outputs": [],
   "source": [
    "import pandas as pd\n",
    "import os\n",
    "import seaborn as sns\n",
    "import matplotlib.pyplot as plt"
   ]
  },
  {
   "cell_type": "code",
   "execution_count": 5,
   "id": "3cf25e56",
   "metadata": {},
   "outputs": [],
   "source": [
    "## read csv into dataframe\n",
    "#put the id dtype to make sure csv is formatted correctly\n",
    "df = pd.read_csv('../data/train.csv',dtype={'id':int, 'license':str})"
   ]
  },
  {
   "cell_type": "code",
   "execution_count": 70,
   "id": "8f3db6cc",
   "metadata": {},
   "outputs": [],
   "source": [
    "df['price'] = df['price'].str.replace(r'[$,]','',regex=True).astype(float)"
   ]
  },
  {
   "cell_type": "code",
   "execution_count": 106,
   "id": "6bb93715",
   "metadata": {},
   "outputs": [
    {
     "data": {
      "text/plain": [
       "Index(['id', 'listing_url', 'scrape_id', 'last_scraped', 'name', 'summary',\n",
       "       'space', 'description', 'experiences_offered', 'neighborhood_overview',\n",
       "       ...\n",
       "       'instant_bookable', 'is_business_travel_ready', 'cancellation_policy',\n",
       "       'require_guest_profile_picture', 'require_guest_phone_verification',\n",
       "       'calculated_host_listings_count',\n",
       "       'calculated_host_listings_count_entire_homes',\n",
       "       'calculated_host_listings_count_private_rooms',\n",
       "       'calculated_host_listings_count_shared_rooms', 'reviews_per_month'],\n",
       "      dtype='object', length=106)"
      ]
     },
     "execution_count": 106,
     "metadata": {},
     "output_type": "execute_result"
    }
   ],
   "source": [
    "#look at the name of the colums in the dataset\n",
    "df.columns\n",
    "#can remove id, listing_url and scrape_id, and anything else ending with suffix _url can also remove has availability, availability 60/90/365 as only interested in 30"
   ]
  },
  {
   "cell_type": "code",
   "execution_count": 8,
   "id": "59be49eb",
   "metadata": {},
   "outputs": [
    {
     "data": {
      "text/plain": [
       "Index(['last_scraped', 'name', 'summary', 'space', 'description',\n",
       "       'experiences_offered', 'neighborhood_overview', 'notes', 'transit',\n",
       "       'access', 'interaction', 'house_rules', 'host_name', 'host_since',\n",
       "       'host_location', 'host_about', 'host_response_time',\n",
       "       'host_response_rate', 'host_acceptance_rate', 'host_is_superhost',\n",
       "       'host_neighbourhood', 'host_listings_count',\n",
       "       'host_total_listings_count', 'host_verifications',\n",
       "       'host_has_profile_pic', 'host_identity_verified', 'street',\n",
       "       'neighbourhood', 'neighbourhood_cleansed',\n",
       "       'neighbourhood_group_cleansed', 'city', 'state', 'zipcode', 'market',\n",
       "       'smart_location', 'country_code', 'country', 'latitude', 'longitude',\n",
       "       'is_location_exact', 'property_type', 'room_type', 'accommodates',\n",
       "       'bathrooms', 'bedrooms', 'beds', 'bed_type', 'amenities', 'square_feet',\n",
       "       'price', 'weekly_price', 'monthly_price', 'security_deposit',\n",
       "       'cleaning_fee', 'guests_included', 'extra_people', 'minimum_nights',\n",
       "       'maximum_nights', 'minimum_minimum_nights', 'maximum_minimum_nights',\n",
       "       'minimum_maximum_nights', 'maximum_maximum_nights',\n",
       "       'minimum_nights_avg_ntm', 'maximum_nights_avg_ntm', 'calendar_updated',\n",
       "       'availability_30', 'calendar_last_scraped', 'number_of_reviews',\n",
       "       'number_of_reviews_ltm', 'first_review', 'last_review',\n",
       "       'review_scores_rating', 'review_scores_accuracy',\n",
       "       'review_scores_cleanliness', 'review_scores_checkin',\n",
       "       'review_scores_communication', 'review_scores_location',\n",
       "       'review_scores_value', 'requires_license', 'license',\n",
       "       'jurisdiction_names', 'instant_bookable', 'is_business_travel_ready',\n",
       "       'cancellation_policy', 'require_guest_profile_picture',\n",
       "       'require_guest_phone_verification', 'calculated_host_listings_count',\n",
       "       'calculated_host_listings_count_entire_homes',\n",
       "       'calculated_host_listings_count_private_rooms',\n",
       "       'calculated_host_listings_count_shared_rooms', 'reviews_per_month'],\n",
       "      dtype='object')"
      ]
     },
     "execution_count": 8,
     "metadata": {},
     "output_type": "execute_result"
    }
   ],
   "source": [
    "df.iloc[:,~(df.columns == 'id')\n",
    "           & ~(df.columns.str.endswith('_url'))\n",
    "           & ~(df.columns.str.endswith('_id'))\n",
    "           & ~(df.columns.isin(['has_availability',\n",
    "                                'availability_60',\n",
    "                                'availability_90',\n",
    "                                'availability_365']))] \\\n",
    "  .columns"
   ]
  },
  {
   "cell_type": "markdown",
   "id": "3ecbdd6d",
   "metadata": {},
   "source": [
    "**As there are so many columns I will group these as such:**\n",
    "\n",
    "- Location Data\n",
    "- Dates\n",
    "- Host Data\n",
    "- Property Info\n",
    "- Review Scores\n",
    "- Other"
   ]
  },
  {
   "cell_type": "markdown",
   "id": "06b1b357",
   "metadata": {},
   "source": [
    "## Location Data"
   ]
  },
  {
   "cell_type": "code",
   "execution_count": 17,
   "id": "f14f039c",
   "metadata": {},
   "outputs": [
    {
     "data": {
      "text/html": [
       "<div>\n",
       "<style scoped>\n",
       "    .dataframe tbody tr th:only-of-type {\n",
       "        vertical-align: middle;\n",
       "    }\n",
       "\n",
       "    .dataframe tbody tr th {\n",
       "        vertical-align: top;\n",
       "    }\n",
       "\n",
       "    .dataframe thead th {\n",
       "        text-align: right;\n",
       "    }\n",
       "</style>\n",
       "<table border=\"1\" class=\"dataframe\">\n",
       "  <thead>\n",
       "    <tr style=\"text-align: right;\">\n",
       "      <th></th>\n",
       "      <th>street</th>\n",
       "      <th>neighbourhood</th>\n",
       "      <th>neighbourhood_cleansed</th>\n",
       "      <th>city</th>\n",
       "      <th>state</th>\n",
       "      <th>zipcode</th>\n",
       "      <th>market</th>\n",
       "      <th>smart_location</th>\n",
       "      <th>country_code</th>\n",
       "      <th>country</th>\n",
       "      <th>latitude</th>\n",
       "      <th>longitude</th>\n",
       "      <th>is_location_exact</th>\n",
       "    </tr>\n",
       "  </thead>\n",
       "  <tbody>\n",
       "    <tr>\n",
       "      <th>0</th>\n",
       "      <td>Ipanema, Rio de Janeiro, Brazil</td>\n",
       "      <td>Ipanema</td>\n",
       "      <td>Ipanema</td>\n",
       "      <td>Ipanema</td>\n",
       "      <td>Rio de Janeiro</td>\n",
       "      <td>22420-030</td>\n",
       "      <td>Rio De Janeiro</td>\n",
       "      <td>Ipanema, Brazil</td>\n",
       "      <td>BR</td>\n",
       "      <td>Brazil</td>\n",
       "      <td>-22.983100</td>\n",
       "      <td>-43.203940</td>\n",
       "      <td>t</td>\n",
       "    </tr>\n",
       "    <tr>\n",
       "      <th>1</th>\n",
       "      <td>Piedade, Rio de Janeiro, Brazil</td>\n",
       "      <td>Piedade</td>\n",
       "      <td>Piedade</td>\n",
       "      <td>Piedade</td>\n",
       "      <td>Rio de Janeiro</td>\n",
       "      <td>20751-001</td>\n",
       "      <td>Rio de Janeiro</td>\n",
       "      <td>Piedade, Brazil</td>\n",
       "      <td>BR</td>\n",
       "      <td>Brazil</td>\n",
       "      <td>-22.886270</td>\n",
       "      <td>-43.308300</td>\n",
       "      <td>t</td>\n",
       "    </tr>\n",
       "    <tr>\n",
       "      <th>2</th>\n",
       "      <td>Copacabana, Rio de Janeiro, Brazil</td>\n",
       "      <td>Copacabana</td>\n",
       "      <td>Copacabana</td>\n",
       "      <td>Copacabana</td>\n",
       "      <td>Rio de Janeiro</td>\n",
       "      <td>22081-020</td>\n",
       "      <td>Rio de Janeiro</td>\n",
       "      <td>Copacabana, Brazil</td>\n",
       "      <td>BR</td>\n",
       "      <td>Brazil</td>\n",
       "      <td>-22.986540</td>\n",
       "      <td>-43.191740</td>\n",
       "      <td>t</td>\n",
       "    </tr>\n",
       "    <tr>\n",
       "      <th>3</th>\n",
       "      <td>Rio de Janeiro, Rio de Janeiro, Brazil</td>\n",
       "      <td>Ipanema</td>\n",
       "      <td>Ipanema</td>\n",
       "      <td>Rio de Janeiro</td>\n",
       "      <td>Rio de Janeiro</td>\n",
       "      <td>22420</td>\n",
       "      <td>Rio De Janeiro</td>\n",
       "      <td>Rio de Janeiro, Brazil</td>\n",
       "      <td>BR</td>\n",
       "      <td>Brazil</td>\n",
       "      <td>-22.985334</td>\n",
       "      <td>-43.206991</td>\n",
       "      <td>f</td>\n",
       "    </tr>\n",
       "    <tr>\n",
       "      <th>4</th>\n",
       "      <td>Rio de Janeiro, Rio de Janeiro, Brazil</td>\n",
       "      <td>Barra da Tijuca</td>\n",
       "      <td>Barra da Tijuca</td>\n",
       "      <td>Rio de Janeiro</td>\n",
       "      <td>Rio de Janeiro</td>\n",
       "      <td>22631-052</td>\n",
       "      <td>Rio De Janeiro</td>\n",
       "      <td>Rio de Janeiro, Brazil</td>\n",
       "      <td>BR</td>\n",
       "      <td>Brazil</td>\n",
       "      <td>-23.004458</td>\n",
       "      <td>-43.347210</td>\n",
       "      <td>t</td>\n",
       "    </tr>\n",
       "  </tbody>\n",
       "</table>\n",
       "</div>"
      ],
      "text/plain": [
       "                                   street    neighbourhood  \\\n",
       "0         Ipanema, Rio de Janeiro, Brazil          Ipanema   \n",
       "1         Piedade, Rio de Janeiro, Brazil          Piedade   \n",
       "2      Copacabana, Rio de Janeiro, Brazil       Copacabana   \n",
       "3  Rio de Janeiro, Rio de Janeiro, Brazil          Ipanema   \n",
       "4  Rio de Janeiro, Rio de Janeiro, Brazil  Barra da Tijuca   \n",
       "\n",
       "  neighbourhood_cleansed            city           state    zipcode  \\\n",
       "0                Ipanema         Ipanema  Rio de Janeiro  22420-030   \n",
       "1                Piedade         Piedade  Rio de Janeiro  20751-001   \n",
       "2             Copacabana      Copacabana  Rio de Janeiro  22081-020   \n",
       "3                Ipanema  Rio de Janeiro  Rio de Janeiro      22420   \n",
       "4        Barra da Tijuca  Rio de Janeiro  Rio de Janeiro  22631-052   \n",
       "\n",
       "           market          smart_location country_code country   latitude  \\\n",
       "0  Rio De Janeiro         Ipanema, Brazil           BR  Brazil -22.983100   \n",
       "1  Rio de Janeiro         Piedade, Brazil           BR  Brazil -22.886270   \n",
       "2  Rio de Janeiro      Copacabana, Brazil           BR  Brazil -22.986540   \n",
       "3  Rio De Janeiro  Rio de Janeiro, Brazil           BR  Brazil -22.985334   \n",
       "4  Rio De Janeiro  Rio de Janeiro, Brazil           BR  Brazil -23.004458   \n",
       "\n",
       "   longitude is_location_exact  \n",
       "0 -43.203940                 t  \n",
       "1 -43.308300                 t  \n",
       "2 -43.191740                 t  \n",
       "3 -43.206991                 f  \n",
       "4 -43.347210                 t  "
      ]
     },
     "execution_count": 17,
     "metadata": {},
     "output_type": "execute_result"
    }
   ],
   "source": [
    "df[['street', 'neighbourhood', 'neighbourhood_cleansed',\n",
    "    'city', 'state', 'zipcode','market', 'smart_location',\n",
    "    'country_code', 'country', 'latitude', 'longitude', \n",
    "    'is_location_exact']].head(5)"
   ]
  },
  {
   "cell_type": "markdown",
   "id": "3169d8ea",
   "metadata": {},
   "source": [
    "- Many of these columns are not necessary (coutnry, state, city).\n",
    "- neighbourhood_cleansed seems the most appropriate to use. could also use lat/long "
   ]
  },
  {
   "cell_type": "code",
   "execution_count": 107,
   "id": "7a0b0935",
   "metadata": {},
   "outputs": [
    {
     "data": {
      "text/plain": [
       "count         721768\n",
       "unique           159\n",
       "top       Copacabana\n",
       "freq          179512\n",
       "Name: neighbourhood_cleansed, dtype: object"
      ]
     },
     "execution_count": 107,
     "metadata": {},
     "output_type": "execute_result"
    }
   ],
   "source": [
    "df['neighbourhood_cleansed'].describe()\n",
    "#159 unique values -- too high!"
   ]
  },
  {
   "cell_type": "code",
   "execution_count": 67,
   "id": "797d15ae",
   "metadata": {},
   "outputs": [
    {
     "data": {
      "text/plain": [
       "Copacabana                  179512\n",
       "Barra da Tijuca              81561\n",
       "Ipanema                      60726\n",
       "Jacarepaguá                  41825\n",
       "Recreio dos Bandeirantes     36266\n",
       "Botafogo                     35316\n",
       "Leblon                       32981\n",
       "Santa Teresa                 23976\n",
       "Centro                       19450\n",
       "Flamengo                     18927\n",
       "Tijuca                       15898\n",
       "Laranjeiras                  15340\n",
       "Leme                         12598\n",
       "Name: neighbourhood_cleansed, dtype: int64"
      ]
     },
     "execution_count": 67,
     "metadata": {},
     "output_type": "execute_result"
    }
   ],
   "source": [
    "#if we were to take a threshhold of 80,\n",
    "cum_sum = df['neighbourhood_cleansed'].value_counts() \\\n",
    "                                      .cumsum() \\\n",
    "                                      .reset_index() \\\n",
    "                                      .rename(columns={\"neighbourhood_cleansed\": \"nh_cum_sum\",\n",
    "                                                       \"index\":\"neighbourhood_cleansed\"})\n",
    "\n",
    "df = df.merge(cum_sum, on = 'neighbourhood_cleansed',how='left')\n",
    "\n",
    "df.loc[(df['nh_cum_sum'] / df.shape[0]) <= 0.8]['neighbourhood_cleansed'].value_counts()"
   ]
  },
  {
   "cell_type": "code",
   "execution_count": 74,
   "id": "b57ed471",
   "metadata": {},
   "outputs": [
    {
     "data": {
      "text/plain": [
       "<AxesSubplot:xlabel='neighbourhood_cleansed', ylabel='price'>"
      ]
     },
     "execution_count": 74,
     "metadata": {},
     "output_type": "execute_result"
    },
    {
     "data": {
      "image/png": "[encoded data removed]",
      "text/plain": [
       "<Figure size 432x288 with 1 Axes>"
      ]
     },
     "metadata": {
      "needs_background": "light"
     },
     "output_type": "display_data"
    }
   ],
   "source": [
    "sns.boxplot(x = 'neighbourhood_cleansed', y = 'price',data = df.loc[(df['nh_cum_sum'] / df.shape[0]) <= 0.8])"
   ]
  },
  {
   "cell_type": "code",
   "execution_count": null,
   "id": "0b7a401c",
   "metadata": {},
   "outputs": [],
   "source": [
    "df['neighbourhood_counts'] = df['neighbourhood_cleansed'].sort_Values('')rolling().count()\n",
    "df[['neighbourhood_cleansed', 'neighbourhood_counts']]"
   ]
  },
  {
   "cell_type": "code",
   "execution_count": 41,
   "id": "fdeb86c8",
   "metadata": {},
   "outputs": [
    {
     "data": {
      "text/plain": [
       "<AxesSubplot:xlabel='neighbourhood_cleansed', ylabel='price'>"
      ]
     },
     "execution_count": 41,
     "metadata": {},
     "output_type": "execute_result"
    },
    {
     "data": {
      "image/png": "[encoded data removed]",
      "text/plain": [
       "<Figure size 432x288 with 1 Axes>"
      ]
     },
     "metadata": {
      "needs_background": "light"
     },
     "output_type": "display_data"
    }
   ],
   "source": [
    "sns.barplot(x = 'neighbourhood_cleansed', y = 'price',data = df)"
   ]
  },
  {
   "cell_type": "code",
   "execution_count": 10,
   "id": "a44c13cc",
   "metadata": {},
   "outputs": [
    {
     "data": {
      "text/html": [
       "<div>\n",
       "<style scoped>\n",
       "    .dataframe tbody tr th:only-of-type {\n",
       "        vertical-align: middle;\n",
       "    }\n",
       "\n",
       "    .dataframe tbody tr th {\n",
       "        vertical-align: top;\n",
       "    }\n",
       "\n",
       "    .dataframe thead th {\n",
       "        text-align: right;\n",
       "    }\n",
       "</style>\n",
       "<table border=\"1\" class=\"dataframe\">\n",
       "  <thead>\n",
       "    <tr style=\"text-align: right;\">\n",
       "      <th></th>\n",
       "      <th>latitude</th>\n",
       "      <th>longitude</th>\n",
       "    </tr>\n",
       "  </thead>\n",
       "  <tbody>\n",
       "    <tr>\n",
       "      <th>count</th>\n",
       "      <td>721768.000000</td>\n",
       "      <td>721768.000000</td>\n",
       "    </tr>\n",
       "    <tr>\n",
       "      <th>mean</th>\n",
       "      <td>-22.965315</td>\n",
       "      <td>-43.253908</td>\n",
       "    </tr>\n",
       "    <tr>\n",
       "      <th>std</th>\n",
       "      <td>0.034802</td>\n",
       "      <td>0.097416</td>\n",
       "    </tr>\n",
       "    <tr>\n",
       "      <th>min</th>\n",
       "      <td>-23.073400</td>\n",
       "      <td>-43.738920</td>\n",
       "    </tr>\n",
       "    <tr>\n",
       "      <th>25%</th>\n",
       "      <td>-22.984690</td>\n",
       "      <td>-43.322610</td>\n",
       "    </tr>\n",
       "    <tr>\n",
       "      <th>50%</th>\n",
       "      <td>-22.970670</td>\n",
       "      <td>-43.200096</td>\n",
       "    </tr>\n",
       "    <tr>\n",
       "      <th>75%</th>\n",
       "      <td>-22.945956</td>\n",
       "      <td>-43.186941</td>\n",
       "    </tr>\n",
       "    <tr>\n",
       "      <th>max</th>\n",
       "      <td>-22.748953</td>\n",
       "      <td>-43.103709</td>\n",
       "    </tr>\n",
       "  </tbody>\n",
       "</table>\n",
       "</div>"
      ],
      "text/plain": [
       "            latitude      longitude\n",
       "count  721768.000000  721768.000000\n",
       "mean      -22.965315     -43.253908\n",
       "std         0.034802       0.097416\n",
       "min       -23.073400     -43.738920\n",
       "25%       -22.984690     -43.322610\n",
       "50%       -22.970670     -43.200096\n",
       "75%       -22.945956     -43.186941\n",
       "max       -22.748953     -43.103709"
      ]
     },
     "execution_count": 10,
     "metadata": {},
     "output_type": "execute_result"
    }
   ],
   "source": [
    "#closer look at lat/long\n",
    "df[['latitude', 'longitude']].describe()\n",
    "## normalize??"
   ]
  },
  {
   "cell_type": "code",
   "execution_count": 53,
   "id": "2b7ff455",
   "metadata": {},
   "outputs": [
    {
     "data": {
      "image/png": "[encoded data removed]",
      "text/plain": [
       "<Figure size 432x288 with 1 Axes>"
      ]
     },
     "metadata": {
      "needs_background": "light"
     },
     "output_type": "display_data"
    },
    {
     "data": {
      "image/png": "[encoded data removed]",
      "text/plain": [
       "<Figure size 432x288 with 1 Axes>"
      ]
     },
     "metadata": {
      "needs_background": "light"
     },
     "output_type": "display_data"
    }
   ],
   "source": [
    "for coordinate in ['latitude', 'longitude']:\n",
    "    plt.hist(df[coordinate])\n",
    "    plt.title(coordinate)\n",
    "    plt.show()"
   ]
  },
  {
   "cell_type": "code",
   "execution_count": 54,
   "id": "456cc917",
   "metadata": {},
   "outputs": [
    {
     "data": {
      "text/html": [
       "<div>\n",
       "<style scoped>\n",
       "    .dataframe tbody tr th:only-of-type {\n",
       "        vertical-align: middle;\n",
       "    }\n",
       "\n",
       "    .dataframe tbody tr th {\n",
       "        vertical-align: top;\n",
       "    }\n",
       "\n",
       "    .dataframe thead th {\n",
       "        text-align: right;\n",
       "    }\n",
       "</style>\n",
       "<table border=\"1\" class=\"dataframe\">\n",
       "  <thead>\n",
       "    <tr style=\"text-align: right;\">\n",
       "      <th></th>\n",
       "      <th>lat_norm</th>\n",
       "      <th>long_norm</th>\n",
       "    </tr>\n",
       "  </thead>\n",
       "  <tbody>\n",
       "    <tr>\n",
       "      <th>count</th>\n",
       "      <td>721768.000000</td>\n",
       "      <td>721768.000000</td>\n",
       "    </tr>\n",
       "    <tr>\n",
       "      <th>mean</th>\n",
       "      <td>0.333135</td>\n",
       "      <td>0.763544</td>\n",
       "    </tr>\n",
       "    <tr>\n",
       "      <th>std</th>\n",
       "      <td>0.107266</td>\n",
       "      <td>0.153359</td>\n",
       "    </tr>\n",
       "    <tr>\n",
       "      <th>min</th>\n",
       "      <td>0.000000</td>\n",
       "      <td>0.000000</td>\n",
       "    </tr>\n",
       "    <tr>\n",
       "      <th>25%</th>\n",
       "      <td>0.273419</td>\n",
       "      <td>0.655388</td>\n",
       "    </tr>\n",
       "    <tr>\n",
       "      <th>50%</th>\n",
       "      <td>0.316631</td>\n",
       "      <td>0.848259</td>\n",
       "    </tr>\n",
       "    <tr>\n",
       "      <th>75%</th>\n",
       "      <td>0.392804</td>\n",
       "      <td>0.868970</td>\n",
       "    </tr>\n",
       "    <tr>\n",
       "      <th>max</th>\n",
       "      <td>1.000000</td>\n",
       "      <td>1.000000</td>\n",
       "    </tr>\n",
       "  </tbody>\n",
       "</table>\n",
       "</div>"
      ],
      "text/plain": [
       "            lat_norm      long_norm\n",
       "count  721768.000000  721768.000000\n",
       "mean        0.333135       0.763544\n",
       "std         0.107266       0.153359\n",
       "min         0.000000       0.000000\n",
       "25%         0.273419       0.655388\n",
       "50%         0.316631       0.848259\n",
       "75%         0.392804       0.868970\n",
       "max         1.000000       1.000000"
      ]
     },
     "execution_count": 54,
     "metadata": {},
     "output_type": "execute_result"
    }
   ],
   "source": [
    "df[['lat_norm','long_norm']] = df[['latitude','longitude']].apply(\n",
    "        lambda x: (x - x.min()) / (x.max() - x.min()))\n",
    "df[['lat_norm','long_norm']].describe()"
   ]
  },
  {
   "cell_type": "code",
   "execution_count": 56,
   "id": "37e8de71",
   "metadata": {},
   "outputs": [
    {
     "data": {
      "text/plain": [
       "<AxesSubplot:xlabel='lat_norm', ylabel='price'>"
      ]
     },
     "execution_count": 56,
     "metadata": {},
     "output_type": "execute_result"
    },
    {
     "data": {
      "image/png": "[encoded data removed]",
      "text/plain": [
       "<Figure size 432x288 with 1 Axes>"
      ]
     },
     "metadata": {
      "needs_background": "light"
     },
     "output_type": "display_data"
    }
   ],
   "source": [
    "sns.scatterplot(data=df, x=\"lat_norm\", y=\"price\")"
   ]
  },
  {
   "cell_type": "code",
   "execution_count": 57,
   "id": "d74ad596",
   "metadata": {},
   "outputs": [
    {
     "data": {
      "text/plain": [
       "<AxesSubplot:xlabel='long_norm', ylabel='price'>"
      ]
     },
     "execution_count": 57,
     "metadata": {},
     "output_type": "execute_result"
    },
    {
     "data": {
      "image/png": "[encoded data removed]",
      "text/plain": [
       "<Figure size 432x288 with 1 Axes>"
      ]
     },
     "metadata": {
      "needs_background": "light"
     },
     "output_type": "display_data"
    }
   ],
   "source": [
    "sns.scatterplot(data=df, x=\"long_norm\", y=\"price\")"
   ]
  },
  {
   "cell_type": "code",
   "execution_count": 11,
   "id": "b2ee857c",
   "metadata": {},
   "outputs": [
    {
     "data": {
      "text/html": [
       "<div>\n",
       "<style scoped>\n",
       "    .dataframe tbody tr th:only-of-type {\n",
       "        vertical-align: middle;\n",
       "    }\n",
       "\n",
       "    .dataframe tbody tr th {\n",
       "        vertical-align: top;\n",
       "    }\n",
       "\n",
       "    .dataframe thead th {\n",
       "        text-align: right;\n",
       "    }\n",
       "</style>\n",
       "<table border=\"1\" class=\"dataframe\">\n",
       "  <thead>\n",
       "    <tr style=\"text-align: right;\">\n",
       "      <th></th>\n",
       "      <th>street</th>\n",
       "      <th>neighbourhood_cleansed</th>\n",
       "    </tr>\n",
       "  </thead>\n",
       "  <tbody>\n",
       "    <tr>\n",
       "      <th>3</th>\n",
       "      <td>Rio de Janeiro, Rio de Janeiro, Brazil</td>\n",
       "      <td>Ipanema</td>\n",
       "    </tr>\n",
       "    <tr>\n",
       "      <th>4</th>\n",
       "      <td>Rio de Janeiro, Rio de Janeiro, Brazil</td>\n",
       "      <td>Barra da Tijuca</td>\n",
       "    </tr>\n",
       "    <tr>\n",
       "      <th>5</th>\n",
       "      <td>Rio de Janeiro, RJ, Brazil</td>\n",
       "      <td>Laranjeiras</td>\n",
       "    </tr>\n",
       "    <tr>\n",
       "      <th>6</th>\n",
       "      <td>Rio de Janeiro, Rio de Janeiro, Brazil</td>\n",
       "      <td>Copacabana</td>\n",
       "    </tr>\n",
       "    <tr>\n",
       "      <th>7</th>\n",
       "      <td>Rio de Janeiro, Rio de Janeiro, Brazil</td>\n",
       "      <td>Recreio dos Bandeirantes</td>\n",
       "    </tr>\n",
       "    <tr>\n",
       "      <th>...</th>\n",
       "      <td>...</td>\n",
       "      <td>...</td>\n",
       "    </tr>\n",
       "    <tr>\n",
       "      <th>659895</th>\n",
       "      <td>Río de Janeiro, RJ, Brazil</td>\n",
       "      <td>Estácio</td>\n",
       "    </tr>\n",
       "    <tr>\n",
       "      <th>660532</th>\n",
       "      <td>Rio De Janeiro, Rio De Janeiro, Brazil</td>\n",
       "      <td>Joá</td>\n",
       "    </tr>\n",
       "    <tr>\n",
       "      <th>665131</th>\n",
       "      <td>Barra da Tijuca, Rio de Janeiro, Brazil</td>\n",
       "      <td>Itanhangá</td>\n",
       "    </tr>\n",
       "    <tr>\n",
       "      <th>696525</th>\n",
       "      <td>RIO DE JANEIRO, RIO DE JANEIRO, Brazil</td>\n",
       "      <td>Méier</td>\n",
       "    </tr>\n",
       "    <tr>\n",
       "      <th>712162</th>\n",
       "      <td>Parque Analândia, Rio de Janeiro, Brazil</td>\n",
       "      <td>Pavuna</td>\n",
       "    </tr>\n",
       "  </tbody>\n",
       "</table>\n",
       "<p>1724 rows × 2 columns</p>\n",
       "</div>"
      ],
      "text/plain": [
       "                                          street    neighbourhood_cleansed\n",
       "3         Rio de Janeiro, Rio de Janeiro, Brazil                   Ipanema\n",
       "4         Rio de Janeiro, Rio de Janeiro, Brazil           Barra da Tijuca\n",
       "5                     Rio de Janeiro, RJ, Brazil               Laranjeiras\n",
       "6         Rio de Janeiro, Rio de Janeiro, Brazil                Copacabana\n",
       "7         Rio de Janeiro, Rio de Janeiro, Brazil  Recreio dos Bandeirantes\n",
       "...                                          ...                       ...\n",
       "659895                Río de Janeiro, RJ, Brazil                   Estácio\n",
       "660532    Rio De Janeiro, Rio De Janeiro, Brazil                       Joá\n",
       "665131   Barra da Tijuca, Rio de Janeiro, Brazil                 Itanhangá\n",
       "696525    RIO DE JANEIRO, RIO DE JANEIRO, Brazil                     Méier\n",
       "712162  Parque Analândia, Rio de Janeiro, Brazil                    Pavuna\n",
       "\n",
       "[1724 rows x 2 columns]"
      ]
     },
     "execution_count": 11,
     "metadata": {},
     "output_type": "execute_result"
    }
   ],
   "source": [
    "# does street column contain different info to neighbourhood?\n",
    "df.loc[~(df['street'].str.split(',',n=1,expand=True)[0] == df['neighbourhood_cleansed'])\n",
    "       ][['street','neighbourhood_cleansed']].drop_duplicates()\n",
    "# yes"
   ]
  },
  {
   "cell_type": "code",
   "execution_count": 12,
   "id": "e73d7aa9",
   "metadata": {},
   "outputs": [
    {
     "data": {
      "text/plain": [
       "count             721768\n",
       "unique               440\n",
       "top       rio de janeiro\n",
       "freq              441730\n",
       "Name: 0, dtype: object"
      ]
     },
     "execution_count": 12,
     "metadata": {},
     "output_type": "execute_result"
    }
   ],
   "source": [
    "df['street'].str.lower().str.strip().str.split(',', expand=True)[0].describe()\n",
    "#but over half the streets are just the name of the city."
   ]
  },
  {
   "cell_type": "code",
   "execution_count": 13,
   "id": "b755225d",
   "metadata": {},
   "outputs": [
    {
     "data": {
      "text/plain": [
       "rio de janeiro              441730\n",
       "copacabana                   67508\n",
       "rio                          47751\n",
       "barra da tijuca              22610\n",
       "ipanema                      17206\n",
       "recreio dos bandeirantes     10751\n",
       "botafogo                     10644\n",
       "leblon                        9607\n",
       "centro                        7879\n",
       "rio de janeiro                7173\n",
       "Name: 0, dtype: int64"
      ]
     },
     "execution_count": 13,
     "metadata": {},
     "output_type": "execute_result"
    }
   ],
   "source": [
    "df['street'].str.lower().str.strip().str.split(',', expand=True)[0].value_counts().head(10)\n",
    "#top 10 either just say some form of rdj, or just say the neighbourhood"
   ]
  },
  {
   "cell_type": "code",
   "execution_count": 14,
   "id": "a37589e9",
   "metadata": {},
   "outputs": [
    {
     "data": {
      "text/plain": [
       "count         721768\n",
       "unique           159\n",
       "top       Copacabana\n",
       "freq          179512\n",
       "Name: neighbourhood_cleansed, dtype: object"
      ]
     },
     "execution_count": 14,
     "metadata": {},
     "output_type": "execute_result"
    }
   ],
   "source": [
    "# compare with neighbourhoods\n",
    "df['neighbourhood_cleansed'].describe()\n",
    "#seems more appropriate to use than street"
   ]
  },
  {
   "cell_type": "code",
   "execution_count": 15,
   "id": "fcd90d96",
   "metadata": {},
   "outputs": [
    {
     "data": {
      "text/plain": [
       "Copacabana                  179512\n",
       "Barra da Tijuca              81561\n",
       "Ipanema                      60726\n",
       "Jacarepaguá                  41825\n",
       "Recreio dos Bandeirantes     36266\n",
       "Botafogo                     35316\n",
       "Leblon                       32981\n",
       "Santa Teresa                 23976\n",
       "Centro                       19450\n",
       "Flamengo                     18927\n",
       "Name: neighbourhood_cleansed, dtype: int64"
      ]
     },
     "execution_count": 15,
     "metadata": {},
     "output_type": "execute_result"
    }
   ],
   "source": [
    "df['neighbourhood_cleansed'].value_counts().head(10)"
   ]
  },
  {
   "cell_type": "code",
   "execution_count": 16,
   "id": "175bf5a3",
   "metadata": {},
   "outputs": [
    {
     "data": {
      "text/plain": [
       "0         2020-01-22\n",
       "1         2020-03-18\n",
       "2         2019-10-19\n",
       "3         2018-12-14\n",
       "4         2018-07-14\n",
       "             ...    \n",
       "721763    2018-08-16\n",
       "721764    2018-11-15\n",
       "721765    2019-09-24\n",
       "721766    2019-02-11\n",
       "721767    2019-04-16\n",
       "Name: last_scraped, Length: 721768, dtype: object"
      ]
     },
     "execution_count": 16,
     "metadata": {},
     "output_type": "execute_result"
    }
   ],
   "source": [
    "df['last_scraped']\n",
    "# use this column as the month"
   ]
  },
  {
   "cell_type": "code",
   "execution_count": 15,
   "id": "14ac3eb5",
   "metadata": {},
   "outputs": [
    {
     "data": {
      "text/html": [
       "<div>\n",
       "<style scoped>\n",
       "    .dataframe tbody tr th:only-of-type {\n",
       "        vertical-align: middle;\n",
       "    }\n",
       "\n",
       "    .dataframe tbody tr th {\n",
       "        vertical-align: top;\n",
       "    }\n",
       "\n",
       "    .dataframe thead th {\n",
       "        text-align: right;\n",
       "    }\n",
       "</style>\n",
       "<table border=\"1\" class=\"dataframe\">\n",
       "  <thead>\n",
       "    <tr style=\"text-align: right;\">\n",
       "      <th></th>\n",
       "      <th>name</th>\n",
       "      <th>summary</th>\n",
       "      <th>space</th>\n",
       "      <th>description</th>\n",
       "      <th>experiences_offered</th>\n",
       "      <th>neighborhood_overview</th>\n",
       "      <th>notes</th>\n",
       "      <th>transit</th>\n",
       "      <th>access</th>\n",
       "      <th>interaction</th>\n",
       "      <th>house_rules</th>\n",
       "    </tr>\n",
       "  </thead>\n",
       "  <tbody>\n",
       "    <tr>\n",
       "      <th>0</th>\n",
       "      <td>Carnaval no melhor local de Ipanema</td>\n",
       "      <td>Apartamento de 2 quartos no coração de ipanema...</td>\n",
       "      <td>O apartamento é muito agradável, moderno, lumi...</td>\n",
       "      <td>Apartamento de 2 quartos no coração de ipanema...</td>\n",
       "      <td>none</td>\n",
       "      <td>Ipanema é um dos bairros mais famosos do Rio d...</td>\n",
       "      <td>Não é permitido mais do que 4 hóspedes sob nen...</td>\n",
       "      <td>Locomoção em Ipanema é muito fácil. O metrô fi...</td>\n",
       "      <td>Acesso a todo apartamento e facilidades do pré...</td>\n",
       "      <td>Estarei disponível para ajudar no que for prec...</td>\n",
       "      <td>Querido hóspede, visando o bem estar de todos,...</td>\n",
       "    </tr>\n",
       "    <tr>\n",
       "      <th>5</th>\n",
       "      <td>Quarto com ar e banheiro prox. Metrô Largo Mac...</td>\n",
       "      <td>O condomínio possui portaria para a Rua Alice ...</td>\n",
       "      <td>Eu gosto do meu apartamento porque é claro, ve...</td>\n",
       "      <td>O condomínio possui portaria para a Rua Alice ...</td>\n",
       "      <td>none</td>\n",
       "      <td>Laranjeiras é um bairro familiar e tranquilo, ...</td>\n",
       "      <td>Você não precisa se preocupar com limpeza do q...</td>\n",
       "      <td>Você estará em um ponto estratégico a no máxim...</td>\n",
       "      <td>Você terá o apartamento inteiro para você, poi...</td>\n",
       "      <td>Gosto de interagir com meus hóspedes para conh...</td>\n",
       "      <td>A limpeza do apartamento é semanal e portanto ...</td>\n",
       "    </tr>\n",
       "    <tr>\n",
       "      <th>6</th>\n",
       "      <td>Verão Rio 2018 ::: Apart Hostel Copacabana 3</td>\n",
       "      <td>Ultimas vagas para Carnaval 2018.  Somos apart...</td>\n",
       "      <td>Temos disponíveis 5 quartos disponíveis, mas o...</td>\n",
       "      <td>Ultimas vagas para Carnaval 2018.  Somos apart...</td>\n",
       "      <td>none</td>\n",
       "      <td>É um bairro bem tranquilo, com excelente segur...</td>\n",
       "      <td>Ainda temos vagas disponiveis para reservas pa...</td>\n",
       "      <td>Ao lado da estação de metro Siqueira campos, e...</td>\n",
       "      <td>O AP Hostel é bem grande, todo mobiliado, duas...</td>\n",
       "      <td>NOSSOS VALORES DE DIÁRIAS NORMAIS, ***NÃO SE A...</td>\n",
       "      <td>- Respeitar o silêncio de descanso apos 23hs a...</td>\n",
       "    </tr>\n",
       "    <tr>\n",
       "      <th>7</th>\n",
       "      <td>QUARTO TIPO CASINHA E  VERDE.</td>\n",
       "      <td>Você vai amar meu espaço por causa do aconcheg...</td>\n",
       "      <td>Os hóspedes podem caminhar livremente pelo ter...</td>\n",
       "      <td>Você vai amar meu espaço por causa do aconcheg...</td>\n",
       "      <td>none</td>\n",
       "      <td>O meu bairro está sendo um dos mais procurados...</td>\n",
       "      <td>Temos próximo duas Igrejas; uma Presbiteriana ...</td>\n",
       "      <td>Do aeroporto ate minha casa tem ônibus tipo Fr...</td>\n",
       "      <td>Os espaços acessíveis aos hóspedes é toda a ár...</td>\n",
       "      <td>Estaremos sempre disponível para ajuda-los na ...</td>\n",
       "      <td>Que se sintam a vontade , respeitando as regra...</td>\n",
       "    </tr>\n",
       "    <tr>\n",
       "      <th>9</th>\n",
       "      <td>Private room in São Conrado</td>\n",
       "      <td>A comfortable room, with private kitchen and b...</td>\n",
       "      <td>A beautiful house in the neighborhood of sao c...</td>\n",
       "      <td>A comfortable room, with private kitchen and b...</td>\n",
       "      <td>none</td>\n",
       "      <td>São Conrado is a very central, yet calm place ...</td>\n",
       "      <td>Spoken languages: English, Portuguese, French,...</td>\n",
       "      <td>You have to walk a little to get to the bus or...</td>\n",
       "      <td>Sauna and swimming pool are available. We have...</td>\n",
       "      <td>I will be glad to help you !</td>\n",
       "      <td>Respect the house. Please, don't smoke. Author...</td>\n",
       "    </tr>\n",
       "  </tbody>\n",
       "</table>\n",
       "</div>"
      ],
      "text/plain": [
       "                                                name  \\\n",
       "0                Carnaval no melhor local de Ipanema   \n",
       "5  Quarto com ar e banheiro prox. Metrô Largo Mac...   \n",
       "6       Verão Rio 2018 ::: Apart Hostel Copacabana 3   \n",
       "7                      QUARTO TIPO CASINHA E  VERDE.   \n",
       "9                        Private room in São Conrado   \n",
       "\n",
       "                                             summary  \\\n",
       "0  Apartamento de 2 quartos no coração de ipanema...   \n",
       "5  O condomínio possui portaria para a Rua Alice ...   \n",
       "6  Ultimas vagas para Carnaval 2018.  Somos apart...   \n",
       "7  Você vai amar meu espaço por causa do aconcheg...   \n",
       "9  A comfortable room, with private kitchen and b...   \n",
       "\n",
       "                                               space  \\\n",
       "0  O apartamento é muito agradável, moderno, lumi...   \n",
       "5  Eu gosto do meu apartamento porque é claro, ve...   \n",
       "6  Temos disponíveis 5 quartos disponíveis, mas o...   \n",
       "7  Os hóspedes podem caminhar livremente pelo ter...   \n",
       "9  A beautiful house in the neighborhood of sao c...   \n",
       "\n",
       "                                         description experiences_offered  \\\n",
       "0  Apartamento de 2 quartos no coração de ipanema...                none   \n",
       "5  O condomínio possui portaria para a Rua Alice ...                none   \n",
       "6  Ultimas vagas para Carnaval 2018.  Somos apart...                none   \n",
       "7  Você vai amar meu espaço por causa do aconcheg...                none   \n",
       "9  A comfortable room, with private kitchen and b...                none   \n",
       "\n",
       "                               neighborhood_overview  \\\n",
       "0  Ipanema é um dos bairros mais famosos do Rio d...   \n",
       "5  Laranjeiras é um bairro familiar e tranquilo, ...   \n",
       "6  É um bairro bem tranquilo, com excelente segur...   \n",
       "7  O meu bairro está sendo um dos mais procurados...   \n",
       "9  São Conrado is a very central, yet calm place ...   \n",
       "\n",
       "                                               notes  \\\n",
       "0  Não é permitido mais do que 4 hóspedes sob nen...   \n",
       "5  Você não precisa se preocupar com limpeza do q...   \n",
       "6  Ainda temos vagas disponiveis para reservas pa...   \n",
       "7  Temos próximo duas Igrejas; uma Presbiteriana ...   \n",
       "9  Spoken languages: English, Portuguese, French,...   \n",
       "\n",
       "                                             transit  \\\n",
       "0  Locomoção em Ipanema é muito fácil. O metrô fi...   \n",
       "5  Você estará em um ponto estratégico a no máxim...   \n",
       "6  Ao lado da estação de metro Siqueira campos, e...   \n",
       "7  Do aeroporto ate minha casa tem ônibus tipo Fr...   \n",
       "9  You have to walk a little to get to the bus or...   \n",
       "\n",
       "                                              access  \\\n",
       "0  Acesso a todo apartamento e facilidades do pré...   \n",
       "5  Você terá o apartamento inteiro para você, poi...   \n",
       "6  O AP Hostel é bem grande, todo mobiliado, duas...   \n",
       "7  Os espaços acessíveis aos hóspedes é toda a ár...   \n",
       "9  Sauna and swimming pool are available. We have...   \n",
       "\n",
       "                                         interaction  \\\n",
       "0  Estarei disponível para ajudar no que for prec...   \n",
       "5  Gosto de interagir com meus hóspedes para conh...   \n",
       "6  NOSSOS VALORES DE DIÁRIAS NORMAIS, ***NÃO SE A...   \n",
       "7  Estaremos sempre disponível para ajuda-los na ...   \n",
       "9                       I will be glad to help you !   \n",
       "\n",
       "                                         house_rules  \n",
       "0  Querido hóspede, visando o bem estar de todos,...  \n",
       "5  A limpeza do apartamento é semanal e portanto ...  \n",
       "6  - Respeitar o silêncio de descanso apos 23hs a...  \n",
       "7  Que se sintam a vontade , respeitando as regra...  \n",
       "9  Respect the house. Please, don't smoke. Author...  "
      ]
     },
     "execution_count": 15,
     "metadata": {},
     "output_type": "execute_result"
    }
   ],
   "source": [
    "df[['name', 'summary', 'space', 'description',\n",
    "    'experiences_offered', 'neighborhood_overview',\n",
    "    'notes', 'transit', 'access', 'interaction',\n",
    "    'house_rules']].dropna().head(5)\n",
    "#these columns are all free text"
   ]
  },
  {
   "cell_type": "code",
   "execution_count": 16,
   "id": "f2dc1124",
   "metadata": {},
   "outputs": [
    {
     "data": {
      "text/html": [
       "<div>\n",
       "<style scoped>\n",
       "    .dataframe tbody tr th:only-of-type {\n",
       "        vertical-align: middle;\n",
       "    }\n",
       "\n",
       "    .dataframe tbody tr th {\n",
       "        vertical-align: top;\n",
       "    }\n",
       "\n",
       "    .dataframe thead th {\n",
       "        text-align: right;\n",
       "    }\n",
       "</style>\n",
       "<table border=\"1\" class=\"dataframe\">\n",
       "  <thead>\n",
       "    <tr style=\"text-align: right;\">\n",
       "      <th></th>\n",
       "      <th>host_name</th>\n",
       "      <th>host_since</th>\n",
       "      <th>host_location</th>\n",
       "      <th>host_about</th>\n",
       "      <th>host_response_time</th>\n",
       "      <th>host_response_rate</th>\n",
       "      <th>host_acceptance_rate</th>\n",
       "      <th>host_is_superhost</th>\n",
       "      <th>host_neighbourhood</th>\n",
       "      <th>host_listings_count</th>\n",
       "      <th>host_total_listings_count</th>\n",
       "      <th>host_verifications</th>\n",
       "      <th>host_has_profile_pic</th>\n",
       "      <th>host_identity_verified</th>\n",
       "    </tr>\n",
       "  </thead>\n",
       "  <tbody>\n",
       "    <tr>\n",
       "      <th>0</th>\n",
       "      <td>Priscila</td>\n",
       "      <td>2013-04-21</td>\n",
       "      <td>Rio de Janeiro, Rio de Janeiro, Brazil</td>\n",
       "      <td>Priscila is a visual artist from Rio de Janeir...</td>\n",
       "      <td>within an hour</td>\n",
       "      <td>100%</td>\n",
       "      <td>NaN</td>\n",
       "      <td>f</td>\n",
       "      <td>Ipanema</td>\n",
       "      <td>2.0</td>\n",
       "      <td>2.0</td>\n",
       "      <td>['email', 'phone', 'reviews', 'jumio', 'offlin...</td>\n",
       "      <td>t</td>\n",
       "      <td>t</td>\n",
       "    </tr>\n",
       "    <tr>\n",
       "      <th>1</th>\n",
       "      <td>Carlos</td>\n",
       "      <td>2017-11-11</td>\n",
       "      <td>Rio de Janeiro, State of Rio de Janeiro, Brazil</td>\n",
       "      <td>NaN</td>\n",
       "      <td>within a day</td>\n",
       "      <td>71%</td>\n",
       "      <td>100%</td>\n",
       "      <td>f</td>\n",
       "      <td>Piedade</td>\n",
       "      <td>1.0</td>\n",
       "      <td>1.0</td>\n",
       "      <td>['email', 'phone']</td>\n",
       "      <td>t</td>\n",
       "      <td>f</td>\n",
       "    </tr>\n",
       "    <tr>\n",
       "      <th>2</th>\n",
       "      <td>Roberta</td>\n",
       "      <td>2019-07-03</td>\n",
       "      <td>Rio de Janeiro, State of Rio de Janeiro, Brazil</td>\n",
       "      <td>NaN</td>\n",
       "      <td>within an hour</td>\n",
       "      <td>100%</td>\n",
       "      <td>NaN</td>\n",
       "      <td>f</td>\n",
       "      <td>Copacabana</td>\n",
       "      <td>1.0</td>\n",
       "      <td>1.0</td>\n",
       "      <td>['email', 'phone']</td>\n",
       "      <td>t</td>\n",
       "      <td>f</td>\n",
       "    </tr>\n",
       "    <tr>\n",
       "      <th>3</th>\n",
       "      <td>Antonia</td>\n",
       "      <td>2014-05-17</td>\n",
       "      <td>Rio, Rio de Janeiro, Brazil</td>\n",
       "      <td>Sou uma profissional que atua no ramo de admin...</td>\n",
       "      <td>NaN</td>\n",
       "      <td>NaN</td>\n",
       "      <td>NaN</td>\n",
       "      <td>t</td>\n",
       "      <td>Leblon</td>\n",
       "      <td>19.0</td>\n",
       "      <td>19.0</td>\n",
       "      <td>['email', 'phone', 'reviews', 'jumio', 'govern...</td>\n",
       "      <td>t</td>\n",
       "      <td>t</td>\n",
       "    </tr>\n",
       "    <tr>\n",
       "      <th>4</th>\n",
       "      <td>Sergio</td>\n",
       "      <td>2016-05-22</td>\n",
       "      <td>BR</td>\n",
       "      <td>NaN</td>\n",
       "      <td>NaN</td>\n",
       "      <td>NaN</td>\n",
       "      <td>NaN</td>\n",
       "      <td>f</td>\n",
       "      <td>Barra da Tijuca</td>\n",
       "      <td>1.0</td>\n",
       "      <td>1.0</td>\n",
       "      <td>['email', 'phone']</td>\n",
       "      <td>t</td>\n",
       "      <td>f</td>\n",
       "    </tr>\n",
       "  </tbody>\n",
       "</table>\n",
       "</div>"
      ],
      "text/plain": [
       "  host_name  host_since                                    host_location  \\\n",
       "0  Priscila  2013-04-21           Rio de Janeiro, Rio de Janeiro, Brazil   \n",
       "1    Carlos  2017-11-11  Rio de Janeiro, State of Rio de Janeiro, Brazil   \n",
       "2   Roberta  2019-07-03  Rio de Janeiro, State of Rio de Janeiro, Brazil   \n",
       "3   Antonia  2014-05-17                      Rio, Rio de Janeiro, Brazil   \n",
       "4    Sergio  2016-05-22                                               BR   \n",
       "\n",
       "                                          host_about host_response_time  \\\n",
       "0  Priscila is a visual artist from Rio de Janeir...     within an hour   \n",
       "1                                                NaN       within a day   \n",
       "2                                                NaN     within an hour   \n",
       "3  Sou uma profissional que atua no ramo de admin...                NaN   \n",
       "4                                                NaN                NaN   \n",
       "\n",
       "  host_response_rate host_acceptance_rate host_is_superhost  \\\n",
       "0               100%                  NaN                 f   \n",
       "1                71%                 100%                 f   \n",
       "2               100%                  NaN                 f   \n",
       "3                NaN                  NaN                 t   \n",
       "4                NaN                  NaN                 f   \n",
       "\n",
       "  host_neighbourhood  host_listings_count  host_total_listings_count  \\\n",
       "0            Ipanema                  2.0                        2.0   \n",
       "1            Piedade                  1.0                        1.0   \n",
       "2         Copacabana                  1.0                        1.0   \n",
       "3             Leblon                 19.0                       19.0   \n",
       "4    Barra da Tijuca                  1.0                        1.0   \n",
       "\n",
       "                                  host_verifications host_has_profile_pic  \\\n",
       "0  ['email', 'phone', 'reviews', 'jumio', 'offlin...                    t   \n",
       "1                                 ['email', 'phone']                    t   \n",
       "2                                 ['email', 'phone']                    t   \n",
       "3  ['email', 'phone', 'reviews', 'jumio', 'govern...                    t   \n",
       "4                                 ['email', 'phone']                    t   \n",
       "\n",
       "  host_identity_verified  \n",
       "0                      t  \n",
       "1                      f  \n",
       "2                      f  \n",
       "3                      t  \n",
       "4                      f  "
      ]
     },
     "execution_count": 16,
     "metadata": {},
     "output_type": "execute_result"
    }
   ],
   "source": [
    "#host columns\n",
    "df[['host_name',\n",
    "       'host_since', 'host_location', 'host_about', 'host_response_time',\n",
    "       'host_response_rate', 'host_acceptance_rate', 'host_is_superhost',\n",
    "       'host_neighbourhood', 'host_listings_count',\n",
    "       'host_total_listings_count', 'host_verifications',\n",
    "       'host_has_profile_pic', 'host_identity_verified']].head(5)\n",
    "#obsv\n",
    "#host_about is free text\n",
    "#if i want to use host_verifications seperate?"
   ]
  },
  {
   "cell_type": "code",
   "execution_count": 17,
   "id": "0c0ca295",
   "metadata": {},
   "outputs": [
    {
     "data": {
      "text/plain": [
       "host_id                           0\n",
       "host_name                       358\n",
       "host_since                      358\n",
       "host_location                  3975\n",
       "host_about                   375118\n",
       "host_response_time           321721\n",
       "host_response_rate           321723\n",
       "host_acceptance_rate         646047\n",
       "host_is_superhost               358\n",
       "host_neighbourhood           277558\n",
       "host_listings_count             358\n",
       "host_total_listings_count       358\n",
       "host_verifications                0\n",
       "host_has_profile_pic            358\n",
       "host_identity_verified          358\n",
       "dtype: int64"
      ]
     },
     "execution_count": 17,
     "metadata": {},
     "output_type": "execute_result"
    }
   ],
   "source": [
    "#check nulls\n",
    "df[['host_id', 'host_name',\n",
    "       'host_since', 'host_location', 'host_about', 'host_response_time',\n",
    "       'host_response_rate', 'host_acceptance_rate', 'host_is_superhost',\n",
    "       'host_neighbourhood', 'host_listings_count',\n",
    "       'host_total_listings_count', 'host_verifications',\n",
    "       'host_has_profile_pic', 'host_identity_verified']].isna().sum()"
   ]
  },
  {
   "cell_type": "code",
   "execution_count": 18,
   "id": "d3d8e614",
   "metadata": {},
   "outputs": [
    {
     "data": {
      "image/png": "[encoded data removed]",
      "text/plain": [
       "<Figure size 432x288 with 1 Axes>"
      ]
     },
     "metadata": {
      "needs_background": "light"
     },
     "output_type": "display_data"
    },
    {
     "data": {
      "image/png": "[encoded data removed]",
      "text/plain": [
       "<Figure size 432x288 with 1 Axes>"
      ]
     },
     "metadata": {
      "needs_background": "light"
     },
     "output_type": "display_data"
    },
    {
     "data": {
      "image/png": "[encoded data removed]",
      "text/plain": [
       "<Figure size 432x288 with 1 Axes>"
      ]
     },
     "metadata": {
      "needs_background": "light"
     },
     "output_type": "display_data"
    }
   ],
   "source": [
    "import seaborn as sns \n",
    "import matplotlib.pyplot as plt\n",
    "\n",
    "for column in ['host_is_superhost','host_has_profile_pic', 'host_identity_verified' ]:\n",
    "    ax = sns.countplot(x=column,data=df)\n",
    "    \n",
    "    abs_values = df[column].value_counts(ascending=False).values\n",
    "\n",
    "    ax.bar_label(container=ax.containers[0], labels=abs_values)\n",
    "    plt.show()\n",
    "    \n",
    "#observations\n",
    "# host_has_profile_pic near zero variance. remove?"
   ]
  },
  {
   "cell_type": "code",
   "execution_count": null,
   "id": "934119a8",
   "metadata": {},
   "outputs": [],
   "source": []
  }
 ],
 "metadata": {
  "kernelspec": {
   "display_name": "Python 3 (ipykernel)",
   "language": "python",
   "name": "python3"
  },
  "language_info": {
   "codemirror_mode": {
    "name": "ipython",
    "version": 3
   },
   "file_extension": ".py",
   "mimetype": "text/x-python",
   "name": "python",
   "nbconvert_exporter": "python",
   "pygments_lexer": "ipython3",
   "version": "3.8.10"
  }
 },
 "nbformat": 4,
 "nbformat_minor": 5
}
