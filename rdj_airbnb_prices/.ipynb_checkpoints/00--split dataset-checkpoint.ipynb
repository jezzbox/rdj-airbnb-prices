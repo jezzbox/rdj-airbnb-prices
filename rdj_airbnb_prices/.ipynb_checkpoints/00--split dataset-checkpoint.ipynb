{
 "cells": [
  {
   "cell_type": "code",
   "execution_count": 2,
   "id": "b1fd0428",
   "metadata": {},
   "outputs": [],
   "source": [
    "import pandas as pd\n",
    "import os\n",
    "from sklearn.model_selection import train_test_split\n",
    "import boto3"
   ]
  },
  {
   "cell_type": "code",
   "execution_count": 14,
   "id": "83babfef",
   "metadata": {},
   "outputs": [],
   "source": [
    "s3 = boto3.client('s3')\n",
    "\n",
    "bucket = 'datascience-datasetsbucket'\n",
    "prefix = 'rdj-airbnb-prices/'\n",
    "obj_list = s3.list_objects_v2(Bucket=bucket,Prefix=prefix)\n",
    "local_dir = '../data/'\n",
    "\n",
    "keys = [obj['Key'] for obj in obj_list['Contents']]\n",
    "\n",
    "for key in [key for key in keys if key not in [prefix,prefix + 'total_data.csv']]:\n",
    "    local_file_path = key.replace(prefix,local_dir)\n",
    "    s3.download_file(bucket, key, local_file_path)"
   ]
  },
  {
   "cell_type": "code",
   "execution_count": null,
   "id": "5a3fcd5f",
   "metadata": {},
   "outputs": [],
   "source": [
    "dfs = []\n",
    "for filename in os.listdir('../data'):\n",
    "    if filename in ['test.csv','train.csv']:\n",
    "        pass\n",
    "    else:\n",
    "        df = pd.read_csv(os.path.join('../data/',filename),dtype={'id':int})\n",
    "        df = df.apply(lambda x: x.str.strip() if isinstance(x, str) else x)\n",
    "        dfs.append(df)\n",
    "df = pd.concat(dfs)"
   ]
  },
  {
   "cell_type": "code",
   "execution_count": 4,
   "id": "a73303ab",
   "metadata": {},
   "outputs": [],
   "source": [
    "#as there are a lot of columns for simplicity I will just focus on categorical and numerical data, will also remove location data that is not needed (ie country/city/state).\n",
    "df = df[['id','last_scraped','host_since',\n",
    "       'host_location', 'host_response_time',\n",
    "       'host_response_rate', 'host_acceptance_rate', 'host_is_superhost',\n",
    "       'host_neighbourhood', 'host_listings_count',\n",
    "       'host_total_listings_count', 'host_verifications',\n",
    "       'host_has_profile_pic', 'host_identity_verified', 'street',\n",
    "       'neighbourhood', 'neighbourhood_cleansed',\n",
    "       'neighbourhood_group_cleansed', 'zipcode', 'market',\n",
    "       'smart_location', 'latitude', 'longitude',\n",
    "       'is_location_exact', 'property_type', 'room_type', 'accommodates',\n",
    "       'bathrooms', 'bedrooms', 'beds', 'bed_type', 'amenities', 'square_feet',\n",
    "       'price', 'weekly_price', 'monthly_price', 'security_deposit',\n",
    "       'cleaning_fee', 'guests_included', 'extra_people', 'minimum_nights',\n",
    "       'maximum_nights', 'minimum_minimum_nights', 'maximum_minimum_nights',\n",
    "       'minimum_maximum_nights', 'maximum_maximum_nights',\n",
    "       'minimum_nights_avg_ntm', 'maximum_nights_avg_ntm', 'calendar_updated',\n",
    "       'availability_30','availability_60', 'availability_90', 'availability_365', 'calendar_last_scraped', 'number_of_reviews',\n",
    "       'number_of_reviews_ltm', 'first_review', 'last_review',\n",
    "       'review_scores_rating', 'review_scores_accuracy',\n",
    "       'review_scores_cleanliness', 'review_scores_checkin',\n",
    "       'review_scores_communication', 'review_scores_location',\n",
    "       'review_scores_value', 'requires_license', 'license',\n",
    "       'jurisdiction_names', 'instant_bookable', 'is_business_travel_ready',\n",
    "       'cancellation_policy', 'require_guest_profile_picture',\n",
    "       'require_guest_phone_verification', 'calculated_host_listings_count',\n",
    "       'calculated_host_listings_count_entire_homes',\n",
    "       'calculated_host_listings_count_private_rooms',\n",
    "       'calculated_host_listings_count_shared_rooms', 'reviews_per_month']]\n"
   ]
  },
  {
   "cell_type": "code",
   "execution_count": 6,
   "id": "543b10ec",
   "metadata": {},
   "outputs": [],
   "source": [
    "## split dataset\n",
    "train, test = train_test_split(df, test_size=0.2)\n",
    "\n",
    "train.to_csv('../data/train.csv',index=False)\n",
    "test.to_csv('../data/test.csv', index=False)"
   ]
  },
  {
   "cell_type": "code",
   "execution_count": null,
   "id": "db6d3b98",
   "metadata": {},
   "outputs": [],
   "source": []
  }
 ],
 "metadata": {
  "kernelspec": {
   "display_name": "Python 3 (ipykernel)",
   "language": "python",
   "name": "python3"
  },
  "language_info": {
   "codemirror_mode": {
    "name": "ipython",
    "version": 3
   },
   "file_extension": ".py",
   "mimetype": "text/x-python",
   "name": "python",
   "nbconvert_exporter": "python",
   "pygments_lexer": "ipython3",
   "version": "3.8.10"
  }
 },
 "nbformat": 4,
 "nbformat_minor": 5
}
