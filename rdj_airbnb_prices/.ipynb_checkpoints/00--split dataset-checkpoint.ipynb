{
 "cells": [
  {
   "cell_type": "code",
   "execution_count": 1,
   "id": "b1fd0428",
   "metadata": {},
   "outputs": [],
   "source": [
    "import pandas as pd\n",
    "import os\n",
    "from sklearn.model_selection import train_test_split\n",
    "import boto3"
   ]
  },
  {
   "cell_type": "code",
   "execution_count": 14,
   "id": "83babfef",
   "metadata": {},
   "outputs": [],
   "source": [
    "s3 = boto3.client('s3')\n",
    "\n",
    "bucket = 'datascience-datasetsbucket'\n",
    "prefix = 'rdj-airbnb-prices/'\n",
    "obj_list = s3.list_objects_v2(Bucket=bucket,Prefix=prefix)\n",
    "local_dir = '../data/'\n",
    "\n",
    "keys = [obj['Key'] for obj in obj_list['Contents']]\n",
    "\n",
    "for key in [key for key in keys if key not in [prefix,prefix + 'total_data.csv']]:\n",
    "    local_file_path = key.replace(prefix,local_dir)\n",
    "    s3.download_file(bucket, key, local_file_path)"
   ]
  },
  {
   "cell_type": "code",
   "execution_count": null,
   "id": "5a3fcd5f",
   "metadata": {},
   "outputs": [],
   "source": [
    "dfs = [pd.read_csv(os.path.join('../data/',filename),dtype={'id':int}) for filename in os.listdir('../data')]\n",
    "df = pd.concat(dfs)"
   ]
  },
  {
   "cell_type": "code",
   "execution_count": 17,
   "id": "543b10ec",
   "metadata": {},
   "outputs": [],
   "source": [
    "## split dataset\n",
    "train, test = train_test_split(df, test_size=0.2)\n",
    "\n",
    "train.to_csv('../data/train.csv',index=False)\n",
    "test.to_csv('../data/test.csv', index=False)"
   ]
  }
 ],
 "metadata": {
  "kernelspec": {
   "display_name": "Python 3 (ipykernel)",
   "language": "python",
   "name": "python3"
  },
  "language_info": {
   "codemirror_mode": {
    "name": "ipython",
    "version": 3
   },
   "file_extension": ".py",
   "mimetype": "text/x-python",
   "name": "python",
   "nbconvert_exporter": "python",
   "pygments_lexer": "ipython3",
   "version": "3.8.10"
  }
 },
 "nbformat": 4,
 "nbformat_minor": 5
}
